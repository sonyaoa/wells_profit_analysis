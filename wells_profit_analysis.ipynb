{
 "cells": [
  {
   "cell_type": "markdown",
   "id": "05c5ddc5",
   "metadata": {
    "id": "H6cQIZr3ElW1"
   },
   "source": [
    "# Проект: Анализ прибыльности регионов добычи нефти"
   ]
  },
  {
   "cell_type": "markdown",
   "id": "cb8649fc",
   "metadata": {
    "id": "H6cQIZr3ElW1"
   },
   "source": [
    "**Описание проекта**\n",
    "\n",
    "Компания планирует разработку 200 новых нефтяных скважин. Для выбора региона необходимо построить линейную модель, которая предскажет объём запасов в скважинах на основании предоставленных геологических данных. Далее требуется провести анализ прибыли и рисков, чтобы определить наиболее перспективный регион для инвестиций.\n",
    "\n",
    "\n",
    "**Цель исследования**\n",
    "\n",
    "Определить регион, в котором разработка 200 скважин принесёт наибольшую прибыль при допустимом уровне риска убытков.\n",
    "\n",
    "**Ход исследования**\n",
    "\n",
    "Для достижения поставленной цели будут выполнены следующие шаги:\n",
    "\n",
    "- Первичный анализ и предобработка данных;\n",
    "- Исследовательский анализ данных;\n",
    "- Моделирование;\n",
    "- Расчет прибыли.\n",
    "\n",
    "Также в заключительной части проекта будут сформулированы итоговые выводы и рекомендации для заказчика."
   ]
  },
  {
   "cell_type": "markdown",
   "id": "a6289bff",
   "metadata": {},
   "source": [
    "## Настройка среды"
   ]
  },
  {
   "cell_type": "code",
   "execution_count": 1,
   "id": "d1f49607",
   "metadata": {},
   "outputs": [],
   "source": [
    "# устанавливаем библиотеки\n",
    "!pip install phik -q\n",
    "!pip install shap -q"
   ]
  },
  {
   "cell_type": "code",
   "execution_count": 2,
   "id": "f128ffaa",
   "metadata": {},
   "outputs": [],
   "source": [
    "# обновляем библиотеки\n",
    "!pip install -Uq scikit-learn"
   ]
  },
  {
   "cell_type": "code",
   "execution_count": 3,
   "id": "6ee47e04",
   "metadata": {},
   "outputs": [],
   "source": [
    "# импорт основных библиотек\n",
    "import pandas as pd\n",
    "import numpy as np\n",
    "import seaborn as sns\n",
    "import matplotlib.pyplot as plt\n",
    "from scipy import stats"
   ]
  },
  {
   "cell_type": "code",
   "execution_count": 4,
   "id": "4cab0073",
   "metadata": {},
   "outputs": [],
   "source": [
    "# импорт функций для МО\n",
    "from phik import phik_matrix\n",
    "from sklearn.linear_model import LinearRegression\n",
    "from sklearn.metrics import mean_absolute_error, mean_squared_error\n",
    "from sklearn.model_selection import train_test_split\n",
    "from sklearn.preprocessing import StandardScaler\n",
    "\n",
    "# константы\n",
    "RANDOM_STATE = 42\n",
    "TEST_SIZE = 0.25"
   ]
  },
  {
   "cell_type": "markdown",
   "id": "9cb261d0",
   "metadata": {},
   "source": [
    "## Ознакомление с данными"
   ]
  },
  {
   "cell_type": "markdown",
   "id": "86461b46",
   "metadata": {},
   "source": [
    "Для проекта заказчик предоставил данные с признаками:\n",
    "\n",
    "- **id** — уникальный идентификатор скважины;\n",
    "- **f0, f1, f2** — три признака точек (неважно, что они означают, но сами признаки значимы);\n",
    "- **product** — объём запасов в скважине (тыс. баррелей)."
   ]
  },
  {
   "cell_type": "code",
   "execution_count": 5,
   "id": "33d2b103",
   "metadata": {},
   "outputs": [],
   "source": [
    "# сохраняем датасеты в переменные\n",
    "region_1 = pd.read_csv('geo_data_0.csv') # первый регион \n",
    "region_2 = pd.read_csv('geo_data_1.csv') # второй регион\n",
    "region_3 = pd.read_csv('geo_data_2.csv') # третий регион"
   ]
  },
  {
   "cell_type": "markdown",
   "id": "922ca9e7",
   "metadata": {},
   "source": [
    "### region_1"
   ]
  },
  {
   "cell_type": "code",
   "execution_count": 6,
   "id": "458beceb",
   "metadata": {
    "scrolled": true
   },
   "outputs": [
    {
     "data": {
      "text/html": [
       "<div>\n",
       "<style scoped>\n",
       "    .dataframe tbody tr th:only-of-type {\n",
       "        vertical-align: middle;\n",
       "    }\n",
       "\n",
       "    .dataframe tbody tr th {\n",
       "        vertical-align: top;\n",
       "    }\n",
       "\n",
       "    .dataframe thead th {\n",
       "        text-align: right;\n",
       "    }\n",
       "</style>\n",
       "<table border=\"1\" class=\"dataframe\">\n",
       "  <thead>\n",
       "    <tr style=\"text-align: right;\">\n",
       "      <th></th>\n",
       "      <th>id</th>\n",
       "      <th>f0</th>\n",
       "      <th>f1</th>\n",
       "      <th>f2</th>\n",
       "      <th>product</th>\n",
       "    </tr>\n",
       "  </thead>\n",
       "  <tbody>\n",
       "    <tr>\n",
       "      <th>0</th>\n",
       "      <td>txEyH</td>\n",
       "      <td>0.705745</td>\n",
       "      <td>-0.497823</td>\n",
       "      <td>1.221170</td>\n",
       "      <td>105.280062</td>\n",
       "    </tr>\n",
       "    <tr>\n",
       "      <th>1</th>\n",
       "      <td>2acmU</td>\n",
       "      <td>1.334711</td>\n",
       "      <td>-0.340164</td>\n",
       "      <td>4.365080</td>\n",
       "      <td>73.037750</td>\n",
       "    </tr>\n",
       "    <tr>\n",
       "      <th>2</th>\n",
       "      <td>409Wp</td>\n",
       "      <td>1.022732</td>\n",
       "      <td>0.151990</td>\n",
       "      <td>1.419926</td>\n",
       "      <td>85.265647</td>\n",
       "    </tr>\n",
       "    <tr>\n",
       "      <th>3</th>\n",
       "      <td>iJLyR</td>\n",
       "      <td>-0.032172</td>\n",
       "      <td>0.139033</td>\n",
       "      <td>2.978566</td>\n",
       "      <td>168.620776</td>\n",
       "    </tr>\n",
       "    <tr>\n",
       "      <th>4</th>\n",
       "      <td>Xdl7t</td>\n",
       "      <td>1.988431</td>\n",
       "      <td>0.155413</td>\n",
       "      <td>4.751769</td>\n",
       "      <td>154.036647</td>\n",
       "    </tr>\n",
       "    <tr>\n",
       "      <th>5</th>\n",
       "      <td>wX4Hy</td>\n",
       "      <td>0.969570</td>\n",
       "      <td>0.489775</td>\n",
       "      <td>-0.735383</td>\n",
       "      <td>64.741541</td>\n",
       "    </tr>\n",
       "    <tr>\n",
       "      <th>6</th>\n",
       "      <td>tL6pL</td>\n",
       "      <td>0.645075</td>\n",
       "      <td>0.530656</td>\n",
       "      <td>1.780266</td>\n",
       "      <td>49.055285</td>\n",
       "    </tr>\n",
       "    <tr>\n",
       "      <th>7</th>\n",
       "      <td>BYPU6</td>\n",
       "      <td>-0.400648</td>\n",
       "      <td>0.808337</td>\n",
       "      <td>-5.624670</td>\n",
       "      <td>72.943292</td>\n",
       "    </tr>\n",
       "    <tr>\n",
       "      <th>8</th>\n",
       "      <td>j9Oui</td>\n",
       "      <td>0.643105</td>\n",
       "      <td>-0.551583</td>\n",
       "      <td>2.372141</td>\n",
       "      <td>113.356160</td>\n",
       "    </tr>\n",
       "    <tr>\n",
       "      <th>9</th>\n",
       "      <td>OLuZU</td>\n",
       "      <td>2.173381</td>\n",
       "      <td>0.563698</td>\n",
       "      <td>9.441852</td>\n",
       "      <td>127.910945</td>\n",
       "    </tr>\n",
       "  </tbody>\n",
       "</table>\n",
       "</div>"
      ],
      "text/plain": [
       "      id        f0        f1        f2     product\n",
       "0  txEyH  0.705745 -0.497823  1.221170  105.280062\n",
       "1  2acmU  1.334711 -0.340164  4.365080   73.037750\n",
       "2  409Wp  1.022732  0.151990  1.419926   85.265647\n",
       "3  iJLyR -0.032172  0.139033  2.978566  168.620776\n",
       "4  Xdl7t  1.988431  0.155413  4.751769  154.036647\n",
       "5  wX4Hy  0.969570  0.489775 -0.735383   64.741541\n",
       "6  tL6pL  0.645075  0.530656  1.780266   49.055285\n",
       "7  BYPU6 -0.400648  0.808337 -5.624670   72.943292\n",
       "8  j9Oui  0.643105 -0.551583  2.372141  113.356160\n",
       "9  OLuZU  2.173381  0.563698  9.441852  127.910945"
      ]
     },
     "execution_count": 6,
     "metadata": {},
     "output_type": "execute_result"
    }
   ],
   "source": [
    "# первые 10 строк\n",
    "region_1.head(10)"
   ]
  },
  {
   "cell_type": "code",
   "execution_count": 7,
   "id": "d1c07e6a",
   "metadata": {},
   "outputs": [
    {
     "name": "stdout",
     "output_type": "stream",
     "text": [
      "<class 'pandas.core.frame.DataFrame'>\n",
      "RangeIndex: 100000 entries, 0 to 99999\n",
      "Data columns (total 5 columns):\n",
      " #   Column   Non-Null Count   Dtype  \n",
      "---  ------   --------------   -----  \n",
      " 0   id       100000 non-null  object \n",
      " 1   f0       100000 non-null  float64\n",
      " 2   f1       100000 non-null  float64\n",
      " 3   f2       100000 non-null  float64\n",
      " 4   product  100000 non-null  float64\n",
      "dtypes: float64(4), object(1)\n",
      "memory usage: 3.8+ MB\n"
     ]
    }
   ],
   "source": [
    "# общая информация\n",
    "region_1.info()"
   ]
  },
  {
   "cell_type": "code",
   "execution_count": 8,
   "id": "6600b9ed",
   "metadata": {},
   "outputs": [
    {
     "name": "stdout",
     "output_type": "stream",
     "text": [
      "Размерность: 100000 строк, 5 столбцов\n"
     ]
    }
   ],
   "source": [
    "# размерность\n",
    "print(f'Размерность: {region_1.shape[0]} строк, {region_1.shape[1]} столбцов')"
   ]
  },
  {
   "cell_type": "code",
   "execution_count": 9,
   "id": "1b926ccd",
   "metadata": {},
   "outputs": [
    {
     "data": {
      "text/html": [
       "<div>\n",
       "<style scoped>\n",
       "    .dataframe tbody tr th:only-of-type {\n",
       "        vertical-align: middle;\n",
       "    }\n",
       "\n",
       "    .dataframe tbody tr th {\n",
       "        vertical-align: top;\n",
       "    }\n",
       "\n",
       "    .dataframe thead th {\n",
       "        text-align: right;\n",
       "    }\n",
       "</style>\n",
       "<table border=\"1\" class=\"dataframe\">\n",
       "  <thead>\n",
       "    <tr style=\"text-align: right;\">\n",
       "      <th></th>\n",
       "      <th>count</th>\n",
       "      <th>mean</th>\n",
       "      <th>std</th>\n",
       "      <th>min</th>\n",
       "      <th>25%</th>\n",
       "      <th>50%</th>\n",
       "      <th>75%</th>\n",
       "      <th>max</th>\n",
       "    </tr>\n",
       "  </thead>\n",
       "  <tbody>\n",
       "    <tr>\n",
       "      <th>f0</th>\n",
       "      <td>100000.0</td>\n",
       "      <td>0.500419</td>\n",
       "      <td>0.871832</td>\n",
       "      <td>-1.408605</td>\n",
       "      <td>-0.072580</td>\n",
       "      <td>0.502360</td>\n",
       "      <td>1.073581</td>\n",
       "      <td>2.362331</td>\n",
       "    </tr>\n",
       "    <tr>\n",
       "      <th>f1</th>\n",
       "      <td>100000.0</td>\n",
       "      <td>0.250143</td>\n",
       "      <td>0.504433</td>\n",
       "      <td>-0.848218</td>\n",
       "      <td>-0.200881</td>\n",
       "      <td>0.250252</td>\n",
       "      <td>0.700646</td>\n",
       "      <td>1.343769</td>\n",
       "    </tr>\n",
       "    <tr>\n",
       "      <th>f2</th>\n",
       "      <td>100000.0</td>\n",
       "      <td>2.502647</td>\n",
       "      <td>3.248248</td>\n",
       "      <td>-12.088328</td>\n",
       "      <td>0.287748</td>\n",
       "      <td>2.515969</td>\n",
       "      <td>4.715088</td>\n",
       "      <td>16.003790</td>\n",
       "    </tr>\n",
       "    <tr>\n",
       "      <th>product</th>\n",
       "      <td>100000.0</td>\n",
       "      <td>92.500000</td>\n",
       "      <td>44.288691</td>\n",
       "      <td>0.000000</td>\n",
       "      <td>56.497507</td>\n",
       "      <td>91.849972</td>\n",
       "      <td>128.564089</td>\n",
       "      <td>185.364347</td>\n",
       "    </tr>\n",
       "  </tbody>\n",
       "</table>\n",
       "</div>"
      ],
      "text/plain": [
       "            count       mean        std        min        25%        50%  \\\n",
       "f0       100000.0   0.500419   0.871832  -1.408605  -0.072580   0.502360   \n",
       "f1       100000.0   0.250143   0.504433  -0.848218  -0.200881   0.250252   \n",
       "f2       100000.0   2.502647   3.248248 -12.088328   0.287748   2.515969   \n",
       "product  100000.0  92.500000  44.288691   0.000000  56.497507  91.849972   \n",
       "\n",
       "                75%         max  \n",
       "f0         1.073581    2.362331  \n",
       "f1         0.700646    1.343769  \n",
       "f2         4.715088   16.003790  \n",
       "product  128.564089  185.364347  "
      ]
     },
     "execution_count": 9,
     "metadata": {},
     "output_type": "execute_result"
    }
   ],
   "source": [
    "# статистическое описание признаков\n",
    "region_1.describe().T"
   ]
  },
  {
   "cell_type": "markdown",
   "id": "8bcef64b",
   "metadata": {},
   "source": [
    "### region_2"
   ]
  },
  {
   "cell_type": "code",
   "execution_count": 10,
   "id": "dcd94c11",
   "metadata": {
    "scrolled": false
   },
   "outputs": [
    {
     "data": {
      "text/html": [
       "<div>\n",
       "<style scoped>\n",
       "    .dataframe tbody tr th:only-of-type {\n",
       "        vertical-align: middle;\n",
       "    }\n",
       "\n",
       "    .dataframe tbody tr th {\n",
       "        vertical-align: top;\n",
       "    }\n",
       "\n",
       "    .dataframe thead th {\n",
       "        text-align: right;\n",
       "    }\n",
       "</style>\n",
       "<table border=\"1\" class=\"dataframe\">\n",
       "  <thead>\n",
       "    <tr style=\"text-align: right;\">\n",
       "      <th></th>\n",
       "      <th>id</th>\n",
       "      <th>f0</th>\n",
       "      <th>f1</th>\n",
       "      <th>f2</th>\n",
       "      <th>product</th>\n",
       "    </tr>\n",
       "  </thead>\n",
       "  <tbody>\n",
       "    <tr>\n",
       "      <th>0</th>\n",
       "      <td>kBEdx</td>\n",
       "      <td>-15.001348</td>\n",
       "      <td>-8.276000</td>\n",
       "      <td>-0.005876</td>\n",
       "      <td>3.179103</td>\n",
       "    </tr>\n",
       "    <tr>\n",
       "      <th>1</th>\n",
       "      <td>62mP7</td>\n",
       "      <td>14.272088</td>\n",
       "      <td>-3.475083</td>\n",
       "      <td>0.999183</td>\n",
       "      <td>26.953261</td>\n",
       "    </tr>\n",
       "    <tr>\n",
       "      <th>2</th>\n",
       "      <td>vyE1P</td>\n",
       "      <td>6.263187</td>\n",
       "      <td>-5.948386</td>\n",
       "      <td>5.001160</td>\n",
       "      <td>134.766305</td>\n",
       "    </tr>\n",
       "    <tr>\n",
       "      <th>3</th>\n",
       "      <td>KcrkZ</td>\n",
       "      <td>-13.081196</td>\n",
       "      <td>-11.506057</td>\n",
       "      <td>4.999415</td>\n",
       "      <td>137.945408</td>\n",
       "    </tr>\n",
       "    <tr>\n",
       "      <th>4</th>\n",
       "      <td>AHL4O</td>\n",
       "      <td>12.702195</td>\n",
       "      <td>-8.147433</td>\n",
       "      <td>5.004363</td>\n",
       "      <td>134.766305</td>\n",
       "    </tr>\n",
       "    <tr>\n",
       "      <th>5</th>\n",
       "      <td>HHckp</td>\n",
       "      <td>-3.327590</td>\n",
       "      <td>-2.205276</td>\n",
       "      <td>3.003647</td>\n",
       "      <td>84.038886</td>\n",
       "    </tr>\n",
       "    <tr>\n",
       "      <th>6</th>\n",
       "      <td>h5Ujo</td>\n",
       "      <td>-11.142655</td>\n",
       "      <td>-10.133399</td>\n",
       "      <td>4.002382</td>\n",
       "      <td>110.992147</td>\n",
       "    </tr>\n",
       "    <tr>\n",
       "      <th>7</th>\n",
       "      <td>muH9x</td>\n",
       "      <td>4.234715</td>\n",
       "      <td>-0.001354</td>\n",
       "      <td>2.004588</td>\n",
       "      <td>53.906522</td>\n",
       "    </tr>\n",
       "    <tr>\n",
       "      <th>8</th>\n",
       "      <td>YiRkx</td>\n",
       "      <td>13.355129</td>\n",
       "      <td>-0.332068</td>\n",
       "      <td>4.998647</td>\n",
       "      <td>134.766305</td>\n",
       "    </tr>\n",
       "    <tr>\n",
       "      <th>9</th>\n",
       "      <td>jG6Gi</td>\n",
       "      <td>1.069227</td>\n",
       "      <td>-11.025667</td>\n",
       "      <td>4.997844</td>\n",
       "      <td>137.945408</td>\n",
       "    </tr>\n",
       "  </tbody>\n",
       "</table>\n",
       "</div>"
      ],
      "text/plain": [
       "      id         f0         f1        f2     product\n",
       "0  kBEdx -15.001348  -8.276000 -0.005876    3.179103\n",
       "1  62mP7  14.272088  -3.475083  0.999183   26.953261\n",
       "2  vyE1P   6.263187  -5.948386  5.001160  134.766305\n",
       "3  KcrkZ -13.081196 -11.506057  4.999415  137.945408\n",
       "4  AHL4O  12.702195  -8.147433  5.004363  134.766305\n",
       "5  HHckp  -3.327590  -2.205276  3.003647   84.038886\n",
       "6  h5Ujo -11.142655 -10.133399  4.002382  110.992147\n",
       "7  muH9x   4.234715  -0.001354  2.004588   53.906522\n",
       "8  YiRkx  13.355129  -0.332068  4.998647  134.766305\n",
       "9  jG6Gi   1.069227 -11.025667  4.997844  137.945408"
      ]
     },
     "execution_count": 10,
     "metadata": {},
     "output_type": "execute_result"
    }
   ],
   "source": [
    "# первые 10 строк\n",
    "region_2.head(10)"
   ]
  },
  {
   "cell_type": "code",
   "execution_count": 11,
   "id": "eda26fb5",
   "metadata": {},
   "outputs": [
    {
     "name": "stdout",
     "output_type": "stream",
     "text": [
      "<class 'pandas.core.frame.DataFrame'>\n",
      "RangeIndex: 100000 entries, 0 to 99999\n",
      "Data columns (total 5 columns):\n",
      " #   Column   Non-Null Count   Dtype  \n",
      "---  ------   --------------   -----  \n",
      " 0   id       100000 non-null  object \n",
      " 1   f0       100000 non-null  float64\n",
      " 2   f1       100000 non-null  float64\n",
      " 3   f2       100000 non-null  float64\n",
      " 4   product  100000 non-null  float64\n",
      "dtypes: float64(4), object(1)\n",
      "memory usage: 3.8+ MB\n"
     ]
    }
   ],
   "source": [
    "# общая информация\n",
    "region_2.info()"
   ]
  },
  {
   "cell_type": "code",
   "execution_count": 12,
   "id": "c8488eed",
   "metadata": {},
   "outputs": [
    {
     "name": "stdout",
     "output_type": "stream",
     "text": [
      "Размерность: 100000 строк, 5 столбцов\n"
     ]
    }
   ],
   "source": [
    "# размерность\n",
    "print(f'Размерность: {region_2.shape[0]} строк, {region_2.shape[1]} столбцов')"
   ]
  },
  {
   "cell_type": "code",
   "execution_count": 13,
   "id": "63caf790",
   "metadata": {},
   "outputs": [
    {
     "data": {
      "text/html": [
       "<div>\n",
       "<style scoped>\n",
       "    .dataframe tbody tr th:only-of-type {\n",
       "        vertical-align: middle;\n",
       "    }\n",
       "\n",
       "    .dataframe tbody tr th {\n",
       "        vertical-align: top;\n",
       "    }\n",
       "\n",
       "    .dataframe thead th {\n",
       "        text-align: right;\n",
       "    }\n",
       "</style>\n",
       "<table border=\"1\" class=\"dataframe\">\n",
       "  <thead>\n",
       "    <tr style=\"text-align: right;\">\n",
       "      <th></th>\n",
       "      <th>count</th>\n",
       "      <th>mean</th>\n",
       "      <th>std</th>\n",
       "      <th>min</th>\n",
       "      <th>25%</th>\n",
       "      <th>50%</th>\n",
       "      <th>75%</th>\n",
       "      <th>max</th>\n",
       "    </tr>\n",
       "  </thead>\n",
       "  <tbody>\n",
       "    <tr>\n",
       "      <th>f0</th>\n",
       "      <td>100000.0</td>\n",
       "      <td>1.141296</td>\n",
       "      <td>8.965932</td>\n",
       "      <td>-31.609576</td>\n",
       "      <td>-6.298551</td>\n",
       "      <td>1.153055</td>\n",
       "      <td>8.621015</td>\n",
       "      <td>29.421755</td>\n",
       "    </tr>\n",
       "    <tr>\n",
       "      <th>f1</th>\n",
       "      <td>100000.0</td>\n",
       "      <td>-4.796579</td>\n",
       "      <td>5.119872</td>\n",
       "      <td>-26.358598</td>\n",
       "      <td>-8.267985</td>\n",
       "      <td>-4.813172</td>\n",
       "      <td>-1.332816</td>\n",
       "      <td>18.734063</td>\n",
       "    </tr>\n",
       "    <tr>\n",
       "      <th>f2</th>\n",
       "      <td>100000.0</td>\n",
       "      <td>2.494541</td>\n",
       "      <td>1.703572</td>\n",
       "      <td>-0.018144</td>\n",
       "      <td>1.000021</td>\n",
       "      <td>2.011479</td>\n",
       "      <td>3.999904</td>\n",
       "      <td>5.019721</td>\n",
       "    </tr>\n",
       "    <tr>\n",
       "      <th>product</th>\n",
       "      <td>100000.0</td>\n",
       "      <td>68.825000</td>\n",
       "      <td>45.944423</td>\n",
       "      <td>0.000000</td>\n",
       "      <td>26.953261</td>\n",
       "      <td>57.085625</td>\n",
       "      <td>107.813044</td>\n",
       "      <td>137.945408</td>\n",
       "    </tr>\n",
       "  </tbody>\n",
       "</table>\n",
       "</div>"
      ],
      "text/plain": [
       "            count       mean        std        min        25%        50%  \\\n",
       "f0       100000.0   1.141296   8.965932 -31.609576  -6.298551   1.153055   \n",
       "f1       100000.0  -4.796579   5.119872 -26.358598  -8.267985  -4.813172   \n",
       "f2       100000.0   2.494541   1.703572  -0.018144   1.000021   2.011479   \n",
       "product  100000.0  68.825000  45.944423   0.000000  26.953261  57.085625   \n",
       "\n",
       "                75%         max  \n",
       "f0         8.621015   29.421755  \n",
       "f1        -1.332816   18.734063  \n",
       "f2         3.999904    5.019721  \n",
       "product  107.813044  137.945408  "
      ]
     },
     "execution_count": 13,
     "metadata": {},
     "output_type": "execute_result"
    }
   ],
   "source": [
    "# статистическое описание признаков\n",
    "region_2.describe().T"
   ]
  },
  {
   "cell_type": "markdown",
   "id": "8fab1f08",
   "metadata": {},
   "source": [
    "### region_3"
   ]
  },
  {
   "cell_type": "code",
   "execution_count": 14,
   "id": "60a2457c",
   "metadata": {
    "scrolled": false
   },
   "outputs": [
    {
     "data": {
      "text/html": [
       "<div>\n",
       "<style scoped>\n",
       "    .dataframe tbody tr th:only-of-type {\n",
       "        vertical-align: middle;\n",
       "    }\n",
       "\n",
       "    .dataframe tbody tr th {\n",
       "        vertical-align: top;\n",
       "    }\n",
       "\n",
       "    .dataframe thead th {\n",
       "        text-align: right;\n",
       "    }\n",
       "</style>\n",
       "<table border=\"1\" class=\"dataframe\">\n",
       "  <thead>\n",
       "    <tr style=\"text-align: right;\">\n",
       "      <th></th>\n",
       "      <th>id</th>\n",
       "      <th>f0</th>\n",
       "      <th>f1</th>\n",
       "      <th>f2</th>\n",
       "      <th>product</th>\n",
       "    </tr>\n",
       "  </thead>\n",
       "  <tbody>\n",
       "    <tr>\n",
       "      <th>0</th>\n",
       "      <td>fwXo0</td>\n",
       "      <td>-1.146987</td>\n",
       "      <td>0.963328</td>\n",
       "      <td>-0.828965</td>\n",
       "      <td>27.758673</td>\n",
       "    </tr>\n",
       "    <tr>\n",
       "      <th>1</th>\n",
       "      <td>WJtFt</td>\n",
       "      <td>0.262778</td>\n",
       "      <td>0.269839</td>\n",
       "      <td>-2.530187</td>\n",
       "      <td>56.069697</td>\n",
       "    </tr>\n",
       "    <tr>\n",
       "      <th>2</th>\n",
       "      <td>ovLUW</td>\n",
       "      <td>0.194587</td>\n",
       "      <td>0.289035</td>\n",
       "      <td>-5.586433</td>\n",
       "      <td>62.871910</td>\n",
       "    </tr>\n",
       "    <tr>\n",
       "      <th>3</th>\n",
       "      <td>q6cA6</td>\n",
       "      <td>2.236060</td>\n",
       "      <td>-0.553760</td>\n",
       "      <td>0.930038</td>\n",
       "      <td>114.572842</td>\n",
       "    </tr>\n",
       "    <tr>\n",
       "      <th>4</th>\n",
       "      <td>WPMUX</td>\n",
       "      <td>-0.515993</td>\n",
       "      <td>1.716266</td>\n",
       "      <td>5.899011</td>\n",
       "      <td>149.600746</td>\n",
       "    </tr>\n",
       "    <tr>\n",
       "      <th>5</th>\n",
       "      <td>LzZXx</td>\n",
       "      <td>-0.758092</td>\n",
       "      <td>0.710691</td>\n",
       "      <td>2.585887</td>\n",
       "      <td>90.222465</td>\n",
       "    </tr>\n",
       "    <tr>\n",
       "      <th>6</th>\n",
       "      <td>WBHRv</td>\n",
       "      <td>-0.574891</td>\n",
       "      <td>0.317727</td>\n",
       "      <td>1.773745</td>\n",
       "      <td>45.641478</td>\n",
       "    </tr>\n",
       "    <tr>\n",
       "      <th>7</th>\n",
       "      <td>XO8fn</td>\n",
       "      <td>-1.906649</td>\n",
       "      <td>-2.458350</td>\n",
       "      <td>-0.177097</td>\n",
       "      <td>72.480640</td>\n",
       "    </tr>\n",
       "    <tr>\n",
       "      <th>8</th>\n",
       "      <td>ybmQ5</td>\n",
       "      <td>1.776292</td>\n",
       "      <td>-0.279356</td>\n",
       "      <td>3.004156</td>\n",
       "      <td>106.616832</td>\n",
       "    </tr>\n",
       "    <tr>\n",
       "      <th>9</th>\n",
       "      <td>OilcN</td>\n",
       "      <td>-1.214452</td>\n",
       "      <td>-0.439314</td>\n",
       "      <td>5.922514</td>\n",
       "      <td>52.954532</td>\n",
       "    </tr>\n",
       "  </tbody>\n",
       "</table>\n",
       "</div>"
      ],
      "text/plain": [
       "      id        f0        f1        f2     product\n",
       "0  fwXo0 -1.146987  0.963328 -0.828965   27.758673\n",
       "1  WJtFt  0.262778  0.269839 -2.530187   56.069697\n",
       "2  ovLUW  0.194587  0.289035 -5.586433   62.871910\n",
       "3  q6cA6  2.236060 -0.553760  0.930038  114.572842\n",
       "4  WPMUX -0.515993  1.716266  5.899011  149.600746\n",
       "5  LzZXx -0.758092  0.710691  2.585887   90.222465\n",
       "6  WBHRv -0.574891  0.317727  1.773745   45.641478\n",
       "7  XO8fn -1.906649 -2.458350 -0.177097   72.480640\n",
       "8  ybmQ5  1.776292 -0.279356  3.004156  106.616832\n",
       "9  OilcN -1.214452 -0.439314  5.922514   52.954532"
      ]
     },
     "execution_count": 14,
     "metadata": {},
     "output_type": "execute_result"
    }
   ],
   "source": [
    "# первые 10 строк\n",
    "region_3.head(10)"
   ]
  },
  {
   "cell_type": "code",
   "execution_count": 15,
   "id": "23b71d70",
   "metadata": {},
   "outputs": [
    {
     "name": "stdout",
     "output_type": "stream",
     "text": [
      "<class 'pandas.core.frame.DataFrame'>\n",
      "RangeIndex: 100000 entries, 0 to 99999\n",
      "Data columns (total 5 columns):\n",
      " #   Column   Non-Null Count   Dtype  \n",
      "---  ------   --------------   -----  \n",
      " 0   id       100000 non-null  object \n",
      " 1   f0       100000 non-null  float64\n",
      " 2   f1       100000 non-null  float64\n",
      " 3   f2       100000 non-null  float64\n",
      " 4   product  100000 non-null  float64\n",
      "dtypes: float64(4), object(1)\n",
      "memory usage: 3.8+ MB\n"
     ]
    }
   ],
   "source": [
    "# общая информация\n",
    "region_3.info()"
   ]
  },
  {
   "cell_type": "code",
   "execution_count": 16,
   "id": "5d5097a6",
   "metadata": {},
   "outputs": [
    {
     "name": "stdout",
     "output_type": "stream",
     "text": [
      "Размерность: 100000 строк, 5 столбцов\n"
     ]
    }
   ],
   "source": [
    "# размерность\n",
    "print(f'Размерность: {region_3.shape[0]} строк, {region_3.shape[1]} столбцов')"
   ]
  },
  {
   "cell_type": "code",
   "execution_count": 17,
   "id": "87379360",
   "metadata": {},
   "outputs": [
    {
     "data": {
      "text/html": [
       "<div>\n",
       "<style scoped>\n",
       "    .dataframe tbody tr th:only-of-type {\n",
       "        vertical-align: middle;\n",
       "    }\n",
       "\n",
       "    .dataframe tbody tr th {\n",
       "        vertical-align: top;\n",
       "    }\n",
       "\n",
       "    .dataframe thead th {\n",
       "        text-align: right;\n",
       "    }\n",
       "</style>\n",
       "<table border=\"1\" class=\"dataframe\">\n",
       "  <thead>\n",
       "    <tr style=\"text-align: right;\">\n",
       "      <th></th>\n",
       "      <th>count</th>\n",
       "      <th>mean</th>\n",
       "      <th>std</th>\n",
       "      <th>min</th>\n",
       "      <th>25%</th>\n",
       "      <th>50%</th>\n",
       "      <th>75%</th>\n",
       "      <th>max</th>\n",
       "    </tr>\n",
       "  </thead>\n",
       "  <tbody>\n",
       "    <tr>\n",
       "      <th>f0</th>\n",
       "      <td>100000.0</td>\n",
       "      <td>0.002023</td>\n",
       "      <td>1.732045</td>\n",
       "      <td>-8.760004</td>\n",
       "      <td>-1.162288</td>\n",
       "      <td>0.009424</td>\n",
       "      <td>1.158535</td>\n",
       "      <td>7.238262</td>\n",
       "    </tr>\n",
       "    <tr>\n",
       "      <th>f1</th>\n",
       "      <td>100000.0</td>\n",
       "      <td>-0.002081</td>\n",
       "      <td>1.730417</td>\n",
       "      <td>-7.084020</td>\n",
       "      <td>-1.174820</td>\n",
       "      <td>-0.009482</td>\n",
       "      <td>1.163678</td>\n",
       "      <td>7.844801</td>\n",
       "    </tr>\n",
       "    <tr>\n",
       "      <th>f2</th>\n",
       "      <td>100000.0</td>\n",
       "      <td>2.495128</td>\n",
       "      <td>3.473445</td>\n",
       "      <td>-11.970335</td>\n",
       "      <td>0.130359</td>\n",
       "      <td>2.484236</td>\n",
       "      <td>4.858794</td>\n",
       "      <td>16.739402</td>\n",
       "    </tr>\n",
       "    <tr>\n",
       "      <th>product</th>\n",
       "      <td>100000.0</td>\n",
       "      <td>95.000000</td>\n",
       "      <td>44.749921</td>\n",
       "      <td>0.000000</td>\n",
       "      <td>59.450441</td>\n",
       "      <td>94.925613</td>\n",
       "      <td>130.595027</td>\n",
       "      <td>190.029838</td>\n",
       "    </tr>\n",
       "  </tbody>\n",
       "</table>\n",
       "</div>"
      ],
      "text/plain": [
       "            count       mean        std        min        25%        50%  \\\n",
       "f0       100000.0   0.002023   1.732045  -8.760004  -1.162288   0.009424   \n",
       "f1       100000.0  -0.002081   1.730417  -7.084020  -1.174820  -0.009482   \n",
       "f2       100000.0   2.495128   3.473445 -11.970335   0.130359   2.484236   \n",
       "product  100000.0  95.000000  44.749921   0.000000  59.450441  94.925613   \n",
       "\n",
       "                75%         max  \n",
       "f0         1.158535    7.238262  \n",
       "f1         1.163678    7.844801  \n",
       "f2         4.858794   16.739402  \n",
       "product  130.595027  190.029838  "
      ]
     },
     "execution_count": 17,
     "metadata": {},
     "output_type": "execute_result"
    }
   ],
   "source": [
    "# статистическое описание признаков\n",
    "region_3.describe().T"
   ]
  },
  {
   "cell_type": "markdown",
   "id": "54c72d29",
   "metadata": {},
   "source": [
    "<div style=\"border: 2px solid black; padding: 10px;\">\n",
    "  <strong>На этапе предобработки требуется:</strong>\n",
    "  <ul> \n",
    "    <li>Проверить датафреймы на наличие явных дубликатов и устранить их;</li> \n",
    "    <li>Проверить датафреймы на наличие пропусков и устранить их;</li>\n",
    "    <li>Проверить тип данных столбцов;</li> \n",
    "    <li>Проверить данные на наличие ошибок и устранить их;</li> \n",
    "    <li>Статистическое описание указывает на наличие выбросов, которые необходимо более детально исследовать на этапе EDA.</li>  \n",
    "      \n",
    "  После предобработки данные будут пригодны для дальнейшего анализа.  \n",
    "  </ul>\n",
    "</div>"
   ]
  },
  {
   "cell_type": "markdown",
   "id": "3752ecd0",
   "metadata": {},
   "source": [
    "## Предобработка данных"
   ]
  },
  {
   "cell_type": "markdown",
   "id": "a8ab7566",
   "metadata": {
    "id": "H6cQIZr3ElW1"
   },
   "source": [
    "### Обработка дубликатов"
   ]
  },
  {
   "cell_type": "markdown",
   "id": "c6a9ca2a",
   "metadata": {},
   "source": [
    "Проверим, есть ли дубли в единственном категориальном признаке **id**:"
   ]
  },
  {
   "cell_type": "code",
   "execution_count": 18,
   "id": "37977ce8",
   "metadata": {},
   "outputs": [
    {
     "name": "stdout",
     "output_type": "stream",
     "text": [
      "Дублирующиеся id в region_1:\n",
      "id\n",
      "fiKDv    2\n",
      "QcMuo    2\n",
      "AGS9W    2\n",
      "Tdehs    2\n",
      "74z30    2\n",
      "Name: count, dtype: int64\n",
      "---------------------------------\n",
      "Дублирующиеся id в region_2:\n",
      "id\n",
      "wt4Uk    2\n",
      "LHZR0    2\n",
      "5ltQ6    2\n",
      "bfPNe    2\n",
      "kBEdx    1\n",
      "Name: count, dtype: int64\n",
      "---------------------------------\n",
      "Дублирующиеся id в region_3:\n",
      "id\n",
      "VF7Jo    2\n",
      "KUPhW    2\n",
      "xCHr8    2\n",
      "Vcm5J    2\n",
      "fwXo0    1\n",
      "Name: count, dtype: int64\n",
      "---------------------------------\n"
     ]
    }
   ],
   "source": [
    "# проверяем наличие дублей в id\n",
    "print('Дублирующиеся id в region_1:')\n",
    "print(region_1.id.value_counts().head(5))\n",
    "print('---------------------------------')\n",
    "\n",
    "print('Дублирующиеся id в region_2:')\n",
    "print(region_2.id.value_counts().head(5))\n",
    "print('---------------------------------')\n",
    "\n",
    "print('Дублирующиеся id в region_3:')\n",
    "print(region_3.id.value_counts().head(5))\n",
    "print('---------------------------------')"
   ]
  },
  {
   "cell_type": "markdown",
   "id": "1539b3d2",
   "metadata": {},
   "source": [
    "Да, такие дубли есть во всех датафреймах. Возможно причина в синтетической природе данных или неоднократных замерах одной и той же скважины (например, в разное время или с разными приборами).\n",
    "\n",
    "Дублирующиеся id сами по себе не мешают построению модели, потому что для обучения мы будем использовать признаки f0, f1, f2 и целевой product. Так что неинформативный признак id есть смысл уже сейчас сделать индексом:"
   ]
  },
  {
   "cell_type": "code",
   "execution_count": 19,
   "id": "4f11f7ad",
   "metadata": {},
   "outputs": [
    {
     "data": {
      "text/html": [
       "<div>\n",
       "<style scoped>\n",
       "    .dataframe tbody tr th:only-of-type {\n",
       "        vertical-align: middle;\n",
       "    }\n",
       "\n",
       "    .dataframe tbody tr th {\n",
       "        vertical-align: top;\n",
       "    }\n",
       "\n",
       "    .dataframe thead th {\n",
       "        text-align: right;\n",
       "    }\n",
       "</style>\n",
       "<table border=\"1\" class=\"dataframe\">\n",
       "  <thead>\n",
       "    <tr style=\"text-align: right;\">\n",
       "      <th></th>\n",
       "      <th>f0</th>\n",
       "      <th>f1</th>\n",
       "      <th>f2</th>\n",
       "      <th>product</th>\n",
       "    </tr>\n",
       "    <tr>\n",
       "      <th>id</th>\n",
       "      <th></th>\n",
       "      <th></th>\n",
       "      <th></th>\n",
       "      <th></th>\n",
       "    </tr>\n",
       "  </thead>\n",
       "  <tbody>\n",
       "    <tr>\n",
       "      <th>txEyH</th>\n",
       "      <td>0.705745</td>\n",
       "      <td>-0.497823</td>\n",
       "      <td>1.221170</td>\n",
       "      <td>105.280062</td>\n",
       "    </tr>\n",
       "    <tr>\n",
       "      <th>2acmU</th>\n",
       "      <td>1.334711</td>\n",
       "      <td>-0.340164</td>\n",
       "      <td>4.365080</td>\n",
       "      <td>73.037750</td>\n",
       "    </tr>\n",
       "    <tr>\n",
       "      <th>409Wp</th>\n",
       "      <td>1.022732</td>\n",
       "      <td>0.151990</td>\n",
       "      <td>1.419926</td>\n",
       "      <td>85.265647</td>\n",
       "    </tr>\n",
       "    <tr>\n",
       "      <th>iJLyR</th>\n",
       "      <td>-0.032172</td>\n",
       "      <td>0.139033</td>\n",
       "      <td>2.978566</td>\n",
       "      <td>168.620776</td>\n",
       "    </tr>\n",
       "    <tr>\n",
       "      <th>Xdl7t</th>\n",
       "      <td>1.988431</td>\n",
       "      <td>0.155413</td>\n",
       "      <td>4.751769</td>\n",
       "      <td>154.036647</td>\n",
       "    </tr>\n",
       "  </tbody>\n",
       "</table>\n",
       "</div>"
      ],
      "text/plain": [
       "             f0        f1        f2     product\n",
       "id                                             \n",
       "txEyH  0.705745 -0.497823  1.221170  105.280062\n",
       "2acmU  1.334711 -0.340164  4.365080   73.037750\n",
       "409Wp  1.022732  0.151990  1.419926   85.265647\n",
       "iJLyR -0.032172  0.139033  2.978566  168.620776\n",
       "Xdl7t  1.988431  0.155413  4.751769  154.036647"
      ]
     },
     "execution_count": 19,
     "metadata": {},
     "output_type": "execute_result"
    }
   ],
   "source": [
    "# переводим id в индекс\n",
    "region_1.set_index('id', inplace=True)\n",
    "region_2.set_index('id', inplace=True)\n",
    "region_3.set_index('id', inplace=True)\n",
    "\n",
    "# проверим изменения\n",
    "region_1.head(5)"
   ]
  },
  {
   "cell_type": "markdown",
   "id": "410accb8",
   "metadata": {},
   "source": [
    "Теперь проверяем датафреймы на наличие явных дубликатов:"
   ]
  },
  {
   "cell_type": "code",
   "execution_count": 20,
   "id": "f5305bbd",
   "metadata": {},
   "outputs": [
    {
     "name": "stdout",
     "output_type": "stream",
     "text": [
      "Количество явных дубликатов в region_1: 0\n",
      "Количество явных дубликатов в region_2: 0\n",
      "Количество явных дубликатов в region_3: 0\n"
     ]
    }
   ],
   "source": [
    "# проверяем данные на наличие явных дубликатов\n",
    "print(f\"Количество явных дубликатов в region_1: {region_1.duplicated().sum()}\")\n",
    "print(f\"Количество явных дубликатов в region_2: {region_2.duplicated().sum()}\")\n",
    "print(f\"Количество явных дубликатов в region_3: {region_3.duplicated().sum()}\")"
   ]
  },
  {
   "cell_type": "markdown",
   "id": "7ad57b07",
   "metadata": {},
   "source": [
    "Явные дубликаты отсутствуют."
   ]
  },
  {
   "cell_type": "markdown",
   "id": "5d4939e4",
   "metadata": {},
   "source": [
    "### Обработка пропусков"
   ]
  },
  {
   "cell_type": "markdown",
   "id": "663656d0",
   "metadata": {},
   "source": [
    "Проверим датафреймы на наличие пропусков:"
   ]
  },
  {
   "cell_type": "code",
   "execution_count": 21,
   "id": "c4dcb047",
   "metadata": {},
   "outputs": [
    {
     "data": {
      "text/plain": [
       "f0         0\n",
       "f1         0\n",
       "f2         0\n",
       "product    0\n",
       "dtype: int64"
      ]
     },
     "execution_count": 21,
     "metadata": {},
     "output_type": "execute_result"
    }
   ],
   "source": [
    "# проверяем количество пропусков в данных\n",
    "region_1.isna().sum()"
   ]
  },
  {
   "cell_type": "code",
   "execution_count": 22,
   "id": "33bcb37a",
   "metadata": {},
   "outputs": [
    {
     "data": {
      "text/plain": [
       "f0         0\n",
       "f1         0\n",
       "f2         0\n",
       "product    0\n",
       "dtype: int64"
      ]
     },
     "execution_count": 22,
     "metadata": {},
     "output_type": "execute_result"
    }
   ],
   "source": [
    "region_2.isna().sum()"
   ]
  },
  {
   "cell_type": "code",
   "execution_count": 23,
   "id": "830a1272",
   "metadata": {},
   "outputs": [
    {
     "data": {
      "text/plain": [
       "f0         0\n",
       "f1         0\n",
       "f2         0\n",
       "product    0\n",
       "dtype: int64"
      ]
     },
     "execution_count": 23,
     "metadata": {},
     "output_type": "execute_result"
    }
   ],
   "source": [
    "region_3.isna().sum()"
   ]
  },
  {
   "cell_type": "markdown",
   "id": "6dedb1de",
   "metadata": {},
   "source": [
    "Пропуски отсутствуют."
   ]
  },
  {
   "cell_type": "markdown",
   "id": "ac7e5cb5",
   "metadata": {},
   "source": [
    "### Изменение типов данных"
   ]
  },
  {
   "cell_type": "markdown",
   "id": "71ae1178",
   "metadata": {},
   "source": [
    "Проверим, корректны ли типы данных:"
   ]
  },
  {
   "cell_type": "code",
   "execution_count": 24,
   "id": "ab998352",
   "metadata": {},
   "outputs": [
    {
     "data": {
      "text/plain": [
       "f0         float64\n",
       "f1         float64\n",
       "f2         float64\n",
       "product    float64\n",
       "dtype: object"
      ]
     },
     "execution_count": 24,
     "metadata": {},
     "output_type": "execute_result"
    }
   ],
   "source": [
    "# проверяем типы данных\n",
    "region_1.dtypes"
   ]
  },
  {
   "cell_type": "code",
   "execution_count": 25,
   "id": "15ea31bc",
   "metadata": {},
   "outputs": [
    {
     "data": {
      "text/plain": [
       "f0         float64\n",
       "f1         float64\n",
       "f2         float64\n",
       "product    float64\n",
       "dtype: object"
      ]
     },
     "execution_count": 25,
     "metadata": {},
     "output_type": "execute_result"
    }
   ],
   "source": [
    "region_2.dtypes"
   ]
  },
  {
   "cell_type": "code",
   "execution_count": 26,
   "id": "4b8d8c88",
   "metadata": {},
   "outputs": [
    {
     "data": {
      "text/plain": [
       "f0         float64\n",
       "f1         float64\n",
       "f2         float64\n",
       "product    float64\n",
       "dtype: object"
      ]
     },
     "execution_count": 26,
     "metadata": {},
     "output_type": "execute_result"
    }
   ],
   "source": [
    "region_3.dtypes"
   ]
  },
  {
   "cell_type": "markdown",
   "id": "1cca9774",
   "metadata": {},
   "source": [
    "Все корректно, изменение типов данных не требуется."
   ]
  },
  {
   "cell_type": "markdown",
   "id": "34b5b0ec",
   "metadata": {},
   "source": [
    "<div style=\"border: 2px solid black; padding: 10px;\">\n",
    "  <strong>Итог:</strong>\n",
    "  <ul>\n",
    "В процессе предобработки было только одно изменение: неинформативный признак id переведен в индекс в каждом из датафреймов. Данные проверены и готовы к исследовательскому анализу.  \n",
    "  </ul>\n",
    "</div>"
   ]
  },
  {
   "cell_type": "markdown",
   "id": "c67d0ed6",
   "metadata": {},
   "source": [
    "## Исследовательский анализ данных"
   ]
  },
  {
   "cell_type": "markdown",
   "id": "96eefecd",
   "metadata": {},
   "source": [
    "Напишем функции для построения графиков:"
   ]
  },
  {
   "cell_type": "code",
   "execution_count": 27,
   "id": "16720b59",
   "metadata": {},
   "outputs": [],
   "source": [
    "# функция для построения распределений и боксплотов \n",
    "def plot_distribution(num_features, df, df_name):\n",
    "    \"\"\"\n",
    "    Строит распределения и боксплоты для количественных признаков датафрейма.\n",
    "    \n",
    "    Параметры:\n",
    "    - num_features: list of str, список количественных признаков\n",
    "    - df: pd.DataFrame, датафрейм\n",
    "    - df_name: str, имя датафрейма\n",
    "    \"\"\"\n",
    "    n = len(num_features)\n",
    "    fig, axes = plt.subplots(n, 2, figsize=(10, 4*n))\n",
    "    \n",
    "    for i, feat in enumerate(num_features):\n",
    "        # распределение (гистограмма + kde)\n",
    "        sns.histplot(df[feat], kde=True, ax=axes[i, 0])\n",
    "        axes[i, 0].set_title(f'{df_name}: Распределение признака {feat}')\n",
    "        \n",
    "        # боксплот\n",
    "        sns.boxplot(y=df[feat], ax=axes[i, 1])\n",
    "        axes[i, 1].set_title(f'{df_name}: Boxplot признака {feat}')\n",
    "    \n",
    "    plt.tight_layout()\n",
    "    plt.show()"
   ]
  },
  {
   "cell_type": "code",
   "execution_count": 28,
   "id": "9bdb50de",
   "metadata": {},
   "outputs": [],
   "source": [
    "# функция для построения матрицы корреляций\n",
    "def plot_corr_heatmap(corr, df_name):\n",
    "    \"\"\"\n",
    "    Строит heatmap для матрицы корреляций.\n",
    "    \n",
    "    Параметры:\n",
    "    - corr: pd.DataFrame или np.array, матрица корреляций между признаками\n",
    "    - df_name: str, имя датафрейма\n",
    "    \"\"\"\n",
    "    plt.figure(figsize=(10, 8))\n",
    "    sns.heatmap(corr, annot=True, fmt=\".2f\", cmap='coolwarm')\n",
    "    plt.title(f\"Матрица корреляций {df_name}\")\n",
    "    \n",
    "    plt.show()"
   ]
  },
  {
   "cell_type": "markdown",
   "id": "e3e29c66",
   "metadata": {},
   "source": [
    "### Распределение признаков"
   ]
  },
  {
   "cell_type": "markdown",
   "id": "135e40ec",
   "metadata": {},
   "source": [
    "На данном этапе мы проведем статистический анализ всех признаков, а также построим графики для каждого из них. Это поможет заметить выбросы, необычное распределение и другие особенности с целью улучшить данные и подготовить их к моделированию."
   ]
  },
  {
   "cell_type": "markdown",
   "id": "48b83def",
   "metadata": {},
   "source": [
    "Исследуем количественные признаки:"
   ]
  },
  {
   "cell_type": "code",
   "execution_count": 29,
   "id": "9ccc0a92",
   "metadata": {},
   "outputs": [
    {
     "data": {
      "text/html": [
       "<div>\n",
       "<style scoped>\n",
       "    .dataframe tbody tr th:only-of-type {\n",
       "        vertical-align: middle;\n",
       "    }\n",
       "\n",
       "    .dataframe tbody tr th {\n",
       "        vertical-align: top;\n",
       "    }\n",
       "\n",
       "    .dataframe thead th {\n",
       "        text-align: right;\n",
       "    }\n",
       "</style>\n",
       "<table border=\"1\" class=\"dataframe\">\n",
       "  <thead>\n",
       "    <tr style=\"text-align: right;\">\n",
       "      <th></th>\n",
       "      <th>count</th>\n",
       "      <th>mean</th>\n",
       "      <th>std</th>\n",
       "      <th>min</th>\n",
       "      <th>25%</th>\n",
       "      <th>50%</th>\n",
       "      <th>75%</th>\n",
       "      <th>max</th>\n",
       "    </tr>\n",
       "  </thead>\n",
       "  <tbody>\n",
       "    <tr>\n",
       "      <th>f0</th>\n",
       "      <td>100000.0</td>\n",
       "      <td>0.500419</td>\n",
       "      <td>0.871832</td>\n",
       "      <td>-1.408605</td>\n",
       "      <td>-0.072580</td>\n",
       "      <td>0.502360</td>\n",
       "      <td>1.073581</td>\n",
       "      <td>2.362331</td>\n",
       "    </tr>\n",
       "    <tr>\n",
       "      <th>f1</th>\n",
       "      <td>100000.0</td>\n",
       "      <td>0.250143</td>\n",
       "      <td>0.504433</td>\n",
       "      <td>-0.848218</td>\n",
       "      <td>-0.200881</td>\n",
       "      <td>0.250252</td>\n",
       "      <td>0.700646</td>\n",
       "      <td>1.343769</td>\n",
       "    </tr>\n",
       "    <tr>\n",
       "      <th>f2</th>\n",
       "      <td>100000.0</td>\n",
       "      <td>2.502647</td>\n",
       "      <td>3.248248</td>\n",
       "      <td>-12.088328</td>\n",
       "      <td>0.287748</td>\n",
       "      <td>2.515969</td>\n",
       "      <td>4.715088</td>\n",
       "      <td>16.003790</td>\n",
       "    </tr>\n",
       "    <tr>\n",
       "      <th>product</th>\n",
       "      <td>100000.0</td>\n",
       "      <td>92.500000</td>\n",
       "      <td>44.288691</td>\n",
       "      <td>0.000000</td>\n",
       "      <td>56.497507</td>\n",
       "      <td>91.849972</td>\n",
       "      <td>128.564089</td>\n",
       "      <td>185.364347</td>\n",
       "    </tr>\n",
       "  </tbody>\n",
       "</table>\n",
       "</div>"
      ],
      "text/plain": [
       "            count       mean        std        min        25%        50%  \\\n",
       "f0       100000.0   0.500419   0.871832  -1.408605  -0.072580   0.502360   \n",
       "f1       100000.0   0.250143   0.504433  -0.848218  -0.200881   0.250252   \n",
       "f2       100000.0   2.502647   3.248248 -12.088328   0.287748   2.515969   \n",
       "product  100000.0  92.500000  44.288691   0.000000  56.497507  91.849972   \n",
       "\n",
       "                75%         max  \n",
       "f0         1.073581    2.362331  \n",
       "f1         0.700646    1.343769  \n",
       "f2         4.715088   16.003790  \n",
       "product  128.564089  185.364347  "
      ]
     },
     "execution_count": 29,
     "metadata": {},
     "output_type": "execute_result"
    }
   ],
   "source": [
    "# статистическое описание количественных признаков region_1\n",
    "region_1.describe().T"
   ]
  },
  {
   "cell_type": "markdown",
   "id": "aa914106",
   "metadata": {},
   "source": [
    "**Анализ статистического описания region_1:**\n",
    "\n",
    "- **f0**: Значения распределены в пределах от -1.4 до 2.4, среднее и медиана совпадают (=0.5). Разброс умеренный, сильных экстремальных значений нет.\n",
    "- **f1**: Более «узкий» признак, значения от -0.85 до 1.34, среднее и медиана совпадают (≈0.25). Вариативность меньше, чем у f0.\n",
    "- **f2**: Сильно отличается от первых двух признаков — широкий диапазон от -12 до 16 и большое стандартное отклонение (≈3.25). Есть выраженные крайние значения.\n",
    "- **product**: Целевой признак варьируется от 0 до 185, среднее (92.5) и медиана (91.8) близки, но разброс очень высокий (ст.отклонение ≈44), что указывает на значительную неоднородность скважин."
   ]
  },
  {
   "cell_type": "code",
   "execution_count": 30,
   "id": "e068b8a0",
   "metadata": {},
   "outputs": [
    {
     "data": {
      "text/html": [
       "<div>\n",
       "<style scoped>\n",
       "    .dataframe tbody tr th:only-of-type {\n",
       "        vertical-align: middle;\n",
       "    }\n",
       "\n",
       "    .dataframe tbody tr th {\n",
       "        vertical-align: top;\n",
       "    }\n",
       "\n",
       "    .dataframe thead th {\n",
       "        text-align: right;\n",
       "    }\n",
       "</style>\n",
       "<table border=\"1\" class=\"dataframe\">\n",
       "  <thead>\n",
       "    <tr style=\"text-align: right;\">\n",
       "      <th></th>\n",
       "      <th>count</th>\n",
       "      <th>mean</th>\n",
       "      <th>std</th>\n",
       "      <th>min</th>\n",
       "      <th>25%</th>\n",
       "      <th>50%</th>\n",
       "      <th>75%</th>\n",
       "      <th>max</th>\n",
       "    </tr>\n",
       "  </thead>\n",
       "  <tbody>\n",
       "    <tr>\n",
       "      <th>f0</th>\n",
       "      <td>100000.0</td>\n",
       "      <td>1.141296</td>\n",
       "      <td>8.965932</td>\n",
       "      <td>-31.609576</td>\n",
       "      <td>-6.298551</td>\n",
       "      <td>1.153055</td>\n",
       "      <td>8.621015</td>\n",
       "      <td>29.421755</td>\n",
       "    </tr>\n",
       "    <tr>\n",
       "      <th>f1</th>\n",
       "      <td>100000.0</td>\n",
       "      <td>-4.796579</td>\n",
       "      <td>5.119872</td>\n",
       "      <td>-26.358598</td>\n",
       "      <td>-8.267985</td>\n",
       "      <td>-4.813172</td>\n",
       "      <td>-1.332816</td>\n",
       "      <td>18.734063</td>\n",
       "    </tr>\n",
       "    <tr>\n",
       "      <th>f2</th>\n",
       "      <td>100000.0</td>\n",
       "      <td>2.494541</td>\n",
       "      <td>1.703572</td>\n",
       "      <td>-0.018144</td>\n",
       "      <td>1.000021</td>\n",
       "      <td>2.011479</td>\n",
       "      <td>3.999904</td>\n",
       "      <td>5.019721</td>\n",
       "    </tr>\n",
       "    <tr>\n",
       "      <th>product</th>\n",
       "      <td>100000.0</td>\n",
       "      <td>68.825000</td>\n",
       "      <td>45.944423</td>\n",
       "      <td>0.000000</td>\n",
       "      <td>26.953261</td>\n",
       "      <td>57.085625</td>\n",
       "      <td>107.813044</td>\n",
       "      <td>137.945408</td>\n",
       "    </tr>\n",
       "  </tbody>\n",
       "</table>\n",
       "</div>"
      ],
      "text/plain": [
       "            count       mean        std        min        25%        50%  \\\n",
       "f0       100000.0   1.141296   8.965932 -31.609576  -6.298551   1.153055   \n",
       "f1       100000.0  -4.796579   5.119872 -26.358598  -8.267985  -4.813172   \n",
       "f2       100000.0   2.494541   1.703572  -0.018144   1.000021   2.011479   \n",
       "product  100000.0  68.825000  45.944423   0.000000  26.953261  57.085625   \n",
       "\n",
       "                75%         max  \n",
       "f0         8.621015   29.421755  \n",
       "f1        -1.332816   18.734063  \n",
       "f2         3.999904    5.019721  \n",
       "product  107.813044  137.945408  "
      ]
     },
     "execution_count": 30,
     "metadata": {},
     "output_type": "execute_result"
    }
   ],
   "source": [
    "# статистическое описание количественных признаков region_2\n",
    "region_2.describe().T"
   ]
  },
  {
   "cell_type": "markdown",
   "id": "e85cc289",
   "metadata": {},
   "source": [
    "**Анализ статистического описания region_2:**\n",
    "\n",
    "- **f0**: Среднее и медиана очень близки (1.14-1.15), разброс очень высокий (ст.отклонение ≈9), диапазон широкий (от -31.6 до 29.4), возможно есть выбросы.\n",
    "- **f1**: Среднее и медиана совпадают (-4.8), разброс значительный (ст.отклонение ≈5.1), диапазон от -26.4 до 18.7, распределение смещено в отрицательную область.\n",
    "- **f2**: Среднее - 2.5, медиана - 2.0, разброс умеренный (≈1.7), значения в основном в пределах от 0 до 5.\n",
    "- **product**: Среднее - 68.8, медиана - 57.1, разброс большой (≈46), диапазон от 0 до 138."
   ]
  },
  {
   "cell_type": "code",
   "execution_count": 31,
   "id": "637e92b8",
   "metadata": {},
   "outputs": [
    {
     "data": {
      "text/html": [
       "<div>\n",
       "<style scoped>\n",
       "    .dataframe tbody tr th:only-of-type {\n",
       "        vertical-align: middle;\n",
       "    }\n",
       "\n",
       "    .dataframe tbody tr th {\n",
       "        vertical-align: top;\n",
       "    }\n",
       "\n",
       "    .dataframe thead th {\n",
       "        text-align: right;\n",
       "    }\n",
       "</style>\n",
       "<table border=\"1\" class=\"dataframe\">\n",
       "  <thead>\n",
       "    <tr style=\"text-align: right;\">\n",
       "      <th></th>\n",
       "      <th>count</th>\n",
       "      <th>mean</th>\n",
       "      <th>std</th>\n",
       "      <th>min</th>\n",
       "      <th>25%</th>\n",
       "      <th>50%</th>\n",
       "      <th>75%</th>\n",
       "      <th>max</th>\n",
       "    </tr>\n",
       "  </thead>\n",
       "  <tbody>\n",
       "    <tr>\n",
       "      <th>f0</th>\n",
       "      <td>100000.0</td>\n",
       "      <td>0.002023</td>\n",
       "      <td>1.732045</td>\n",
       "      <td>-8.760004</td>\n",
       "      <td>-1.162288</td>\n",
       "      <td>0.009424</td>\n",
       "      <td>1.158535</td>\n",
       "      <td>7.238262</td>\n",
       "    </tr>\n",
       "    <tr>\n",
       "      <th>f1</th>\n",
       "      <td>100000.0</td>\n",
       "      <td>-0.002081</td>\n",
       "      <td>1.730417</td>\n",
       "      <td>-7.084020</td>\n",
       "      <td>-1.174820</td>\n",
       "      <td>-0.009482</td>\n",
       "      <td>1.163678</td>\n",
       "      <td>7.844801</td>\n",
       "    </tr>\n",
       "    <tr>\n",
       "      <th>f2</th>\n",
       "      <td>100000.0</td>\n",
       "      <td>2.495128</td>\n",
       "      <td>3.473445</td>\n",
       "      <td>-11.970335</td>\n",
       "      <td>0.130359</td>\n",
       "      <td>2.484236</td>\n",
       "      <td>4.858794</td>\n",
       "      <td>16.739402</td>\n",
       "    </tr>\n",
       "    <tr>\n",
       "      <th>product</th>\n",
       "      <td>100000.0</td>\n",
       "      <td>95.000000</td>\n",
       "      <td>44.749921</td>\n",
       "      <td>0.000000</td>\n",
       "      <td>59.450441</td>\n",
       "      <td>94.925613</td>\n",
       "      <td>130.595027</td>\n",
       "      <td>190.029838</td>\n",
       "    </tr>\n",
       "  </tbody>\n",
       "</table>\n",
       "</div>"
      ],
      "text/plain": [
       "            count       mean        std        min        25%        50%  \\\n",
       "f0       100000.0   0.002023   1.732045  -8.760004  -1.162288   0.009424   \n",
       "f1       100000.0  -0.002081   1.730417  -7.084020  -1.174820  -0.009482   \n",
       "f2       100000.0   2.495128   3.473445 -11.970335   0.130359   2.484236   \n",
       "product  100000.0  95.000000  44.749921   0.000000  59.450441  94.925613   \n",
       "\n",
       "                75%         max  \n",
       "f0         1.158535    7.238262  \n",
       "f1         1.163678    7.844801  \n",
       "f2         4.858794   16.739402  \n",
       "product  130.595027  190.029838  "
      ]
     },
     "execution_count": 31,
     "metadata": {},
     "output_type": "execute_result"
    }
   ],
   "source": [
    "# статистическое описание количественных признаков region_3\n",
    "region_3.describe().T"
   ]
  },
  {
   "cell_type": "markdown",
   "id": "68fbb695",
   "metadata": {},
   "source": [
    "**Анализ статистического описания region_3:**\n",
    "\n",
    "- **f0**: Среднее и медиана равны нулю, разброс ощутимый (≈1.7), диапазон от -8.8 до 7.2, значения распределены симметрично вокруг нуля.\n",
    "- **f1**: Среднее и медиана равны нулю, разброс аналогичный (≈1.7), диапазон от -7.1 до 7.8, структура похожа на f0.\n",
    "- **f2**: Среднее и медиана равны 2.5, разброс высокий (≈3.5), диапазон широкий (от -12.0 до 16.7), скорее всего  в признаках f0-f2 присутствуют выбросы.\n",
    "- **product**: Cреднее и медиана близки к 95, разброс значительный (≈44.7), значения от 0 до 190."
   ]
  },
  {
   "cell_type": "markdown",
   "id": "226e02bc",
   "metadata": {},
   "source": [
    "Теперь построим графики распределений и боксплотов для данных по каждому из регионов:"
   ]
  },
  {
   "cell_type": "code",
   "execution_count": 32,
   "id": "e9ec40cb",
   "metadata": {},
   "outputs": [],
   "source": [
    "# данные для построения графиков\n",
    "regions = [region_1, region_2, region_3]\n",
    "region_names = ['region_1', 'region_2', 'region_3']\n",
    "num_features = ['f0', 'f1', 'f2', 'product']"
   ]
  },
  {
   "cell_type": "markdown",
   "id": "0c2110dd",
   "metadata": {},
   "source": [
    "#### region_1"
   ]
  },
  {
   "cell_type": "code",
   "execution_count": 33,
   "id": "a1408bc1",
   "metadata": {
    "scrolled": false
   },
   "outputs": [
    {
     "data": {
      "image/png": "[encoded data removed]",
      "text/plain": [
       "<Figure size 1000x1600 with 8 Axes>"
      ]
     },
     "metadata": {},
     "output_type": "display_data"
    }
   ],
   "source": [
    "# построим распределения и боксплоты для region_1\n",
    "plot_distribution(num_features, region_1, 'region_1')"
   ]
  },
  {
   "cell_type": "markdown",
   "id": "a25cb43c",
   "metadata": {},
   "source": [
    "<div style=\"border: 2px solid black; padding: 10px;\">\n",
    "  <strong>Наблюдения по количественным признакам region_1:</strong>\n",
    "  <ul> \n",
    "    <li><strong>f0:</strong> Имеет мультимодальное распределение с четырьмя основными группами значений. Несмотря на сложную форму распределения, центральная половина данных (от 0.0 до 1.0) сгруппирована вокруг медианы 0.5. Разброс данных умеренный, выбросов не наблюдается.</li>\n",
    "    <li><strong>f1:</strong> Распределение признака является мультимодальным, характеризующимся двумя доминирующими пиками (около -0.5 и 1.0), а также заметным, но менее выраженным, третьим скоплением данных в центральной части. Выбросы отсутствуют.</li>\n",
    "    <li><strong>f2:</strong> Распределение близко к нормальному и выглядит достаточно симметричным относительно своего центра (3.0). Выбросы есть, но они не искажают общую картину.</li> \n",
    "    <li><strong>product:</strong> Распределение мультимодальное (6 мод), что, вероятно, указывает на то, что объем запасов присваивается из ограниченного набора стандартных значений или классов, выбросов нет. Эта информация важна для дальнейшего моделирования.</li>\n",
    "  </ul>\n",
    "</div>"
   ]
  },
  {
   "cell_type": "markdown",
   "id": "07f83b5e",
   "metadata": {},
   "source": [
    "#### region_2"
   ]
  },
  {
   "cell_type": "code",
   "execution_count": 34,
   "id": "e22033c7",
   "metadata": {},
   "outputs": [
    {
     "data": {
      "image/png": "[encoded data removed]",
      "text/plain": [
       "<Figure size 1000x1600 with 8 Axes>"
      ]
     },
     "metadata": {},
     "output_type": "display_data"
    }
   ],
   "source": [
    "# построим распределения и боксплоты для region_2\n",
    "plot_distribution(num_features, region_2, 'region_2')"
   ]
  },
  {
   "cell_type": "markdown",
   "id": "f1e55976",
   "metadata": {},
   "source": [
    "<div style=\"border: 2px solid black; padding: 10px;\">\n",
    "  <strong>Наблюдения по количественным признакам region_2:</strong>\n",
    "  <ul> \n",
    "    <li><strong>f0:</strong> Имеет выраженное бимодальное распределение, центрированное вокруг нуля. Присутствует один незначительный выброс в отрицательную сторону.</li>\n",
    "    <li><strong>f1:</strong> Имеет распределение, которое близко к нормальному, но центрировано на отрицательном значении (около −5). Присутствуют выбросы с обеих сторон, но они не меняют существенно общую форму распределения.</li>\n",
    "    <li><strong>f2:</strong> Признак имеет критически важную характеристику - он близок к дискретному и принимает значения, сгруппированные вокруг целых чисел от 0 до 5 с почти равномерной частотой, выбросов нет.</li> \n",
    "    <li><strong>product:</strong> Целевой признак тоже близок к дискретному с очень четкой структурой - видим шесть классов, два из которых (0 и 140) являются доминирующими, выбросов нет.</li>\n",
    "  </ul>\n",
    "</div>"
   ]
  },
  {
   "cell_type": "markdown",
   "id": "52c7bc6c",
   "metadata": {},
   "source": [
    "#### region_3"
   ]
  },
  {
   "cell_type": "code",
   "execution_count": 35,
   "id": "5c25de00",
   "metadata": {},
   "outputs": [
    {
     "data": {
      "image/png": "[encoded data removed]",
      "text/plain": [
       "<Figure size 1000x1600 with 8 Axes>"
      ]
     },
     "metadata": {},
     "output_type": "display_data"
    }
   ],
   "source": [
    "# построим распределения и боксплоты для region_3\n",
    "plot_distribution(num_features, region_3, 'region_3')"
   ]
  },
  {
   "cell_type": "markdown",
   "id": "1d90ce28",
   "metadata": {},
   "source": [
    "<div style=\"border: 2px solid black; padding: 10px;\">\n",
    "  <strong>Наблюдения по количественным признакам region_3:</strong>\n",
    "  <ul> \n",
    "    <li><strong>f0:</strong> Имеет распределение, которое близко к стандартному нормальному распределению (хотя и с небольшим сдвигом медианы от нуля и присутствием выбросов). Эта форма распределения является наиболее благоприятной для модели линейной регрессии.</li>\n",
    "    <li><strong>f1:</strong> Имеет унимодальное распределение, идеально приближенное к нормальному, центрированное на нуле. Наличие выбросов не искажает распределение.</li>\n",
    "    <li><strong>f2:</strong> Имеет унимодальное распределение, которое достаточно симметрично относительно своего центра (≈2.5, выбросы не искажают картину.</li> \n",
    "    <li><strong>product:</strong> Целевой признак в region_3 имеет структуру распределения, почти идентичную region_1 - мультимодальное распределение с несколькими пиками по всему диапазону. Таким образом, для моделирования в регионе 3, как и в остальных, следует ожидать, что модель будет предсказывать одно из нескольких дискретных значений.</li>\n",
    "  </ul>\n",
    "</div>"
   ]
  },
  {
   "cell_type": "markdown",
   "id": "68a27f18",
   "metadata": {},
   "source": [
    "### Корреляционный анализ"
   ]
  },
  {
   "cell_type": "markdown",
   "id": "4f4ceb76",
   "metadata": {},
   "source": [
    "На данном этапе мы изучим взаимосвязь между признаками: рассчитаем коэффициенты корреляции между ними, построим диаграммы рассеяния и проанализируем корреляции."
   ]
  },
  {
   "cell_type": "markdown",
   "id": "8d81909e",
   "metadata": {},
   "source": [
    "На этапе исследовательского анализа мы заметили, что не все признаки распределены нормально, поэтому необходимо использовать подходы, которые устойчивы к выбросам, ненормальному распределению и дискретной природе признаков. Для этого построим матрицу корреляций по коэффициенту Phik:"
   ]
  },
  {
   "cell_type": "markdown",
   "id": "a653ce4f",
   "metadata": {},
   "source": [
    "#### region_1"
   ]
  },
  {
   "cell_type": "code",
   "execution_count": 36,
   "id": "a8b8b68e",
   "metadata": {},
   "outputs": [
    {
     "data": {
      "text/html": [
       "<div>\n",
       "<style scoped>\n",
       "    .dataframe tbody tr th:only-of-type {\n",
       "        vertical-align: middle;\n",
       "    }\n",
       "\n",
       "    .dataframe tbody tr th {\n",
       "        vertical-align: top;\n",
       "    }\n",
       "\n",
       "    .dataframe thead th {\n",
       "        text-align: right;\n",
       "    }\n",
       "</style>\n",
       "<table border=\"1\" class=\"dataframe\">\n",
       "  <thead>\n",
       "    <tr style=\"text-align: right;\">\n",
       "      <th></th>\n",
       "      <th>f0</th>\n",
       "      <th>f1</th>\n",
       "      <th>f2</th>\n",
       "      <th>product</th>\n",
       "    </tr>\n",
       "  </thead>\n",
       "  <tbody>\n",
       "    <tr>\n",
       "      <th>f0</th>\n",
       "      <td>1.000000</td>\n",
       "      <td>0.762170</td>\n",
       "      <td>0.000000</td>\n",
       "      <td>0.215525</td>\n",
       "    </tr>\n",
       "    <tr>\n",
       "      <th>f1</th>\n",
       "      <td>0.762170</td>\n",
       "      <td>1.000000</td>\n",
       "      <td>0.000000</td>\n",
       "      <td>0.253544</td>\n",
       "    </tr>\n",
       "    <tr>\n",
       "      <th>f2</th>\n",
       "      <td>0.000000</td>\n",
       "      <td>0.000000</td>\n",
       "      <td>1.000000</td>\n",
       "      <td>0.475901</td>\n",
       "    </tr>\n",
       "    <tr>\n",
       "      <th>product</th>\n",
       "      <td>0.215525</td>\n",
       "      <td>0.253544</td>\n",
       "      <td>0.475901</td>\n",
       "      <td>1.000000</td>\n",
       "    </tr>\n",
       "  </tbody>\n",
       "</table>\n",
       "</div>"
      ],
      "text/plain": [
       "               f0        f1        f2   product\n",
       "f0       1.000000  0.762170  0.000000  0.215525\n",
       "f1       0.762170  1.000000  0.000000  0.253544\n",
       "f2       0.000000  0.000000  1.000000  0.475901\n",
       "product  0.215525  0.253544  0.475901  1.000000"
      ]
     },
     "execution_count": 36,
     "metadata": {},
     "output_type": "execute_result"
    }
   ],
   "source": [
    "# вычисляем phik корреляции, передав параметру interval_cols непрерывные количественные признаки\n",
    "phik_corr_1 = region_1.phik_matrix(interval_cols=num_features)\n",
    "\n",
    "phik_corr_1"
   ]
  },
  {
   "cell_type": "code",
   "execution_count": 37,
   "id": "50dd64f8",
   "metadata": {},
   "outputs": [
    {
     "data": {
      "image/png": "[encoded data removed]",
      "text/plain": [
       "<Figure size 1000x800 with 2 Axes>"
      ]
     },
     "metadata": {},
     "output_type": "display_data"
    }
   ],
   "source": [
    "# визуализируем\n",
    "plot_corr_heatmap(phik_corr_1, 'region_1')"
   ]
  },
  {
   "cell_type": "markdown",
   "id": "abcd847a",
   "metadata": {},
   "source": [
    "<div style=\"border: 2px solid black; padding: 10px;\">\n",
    "  <strong>Выводы по корреляции с целевым признаком (product):</strong>\n",
    "  <ul>\n",
    "    <li><strong>f2 (0.48):</strong> Умеренная корреляция, выраженной зависимости нет.</li>\n",
    "    <li><strong>f1 (0.25) и f0 (0.22):</strong> Имеют совсем слабую связь с целевым признаком.</li>    \n",
    "  </ul>\n",
    "</div>"
   ]
  },
  {
   "cell_type": "markdown",
   "id": "bcf5502d",
   "metadata": {},
   "source": [
    "<div style=\"border: 2px solid black; padding: 10px;\">\n",
    "  <strong>Выводы по корреляции признаков между собой:</strong>\n",
    "  <ul>\n",
    "    <li><strong>f0 и f1 (0.76):</strong> Высокая корреляция, но не слишком, чтобы пришлось устранять мультиколлинеарность.</li>\n",
    "    <li><strong>Независимость f2:</strong> Признак f2 не зависит ни от f0, ни от f1.</li> \n",
    "    <li><strong>Корреляция ниже 0.95 редко приводит к эффектам мультиколлинеарности.</strong> К тому же в моделях есть регуляризации, которые борятся с мультиколлинеарностью и при более экстремальных показателях корреляции.</li>  \n",
    "  </ul>\n",
    "</div>"
   ]
  },
  {
   "cell_type": "markdown",
   "id": "688dd106",
   "metadata": {},
   "source": [
    "#### region_2"
   ]
  },
  {
   "cell_type": "code",
   "execution_count": 38,
   "id": "2b7f7962",
   "metadata": {},
   "outputs": [
    {
     "data": {
      "text/html": [
       "<div>\n",
       "<style scoped>\n",
       "    .dataframe tbody tr th:only-of-type {\n",
       "        vertical-align: middle;\n",
       "    }\n",
       "\n",
       "    .dataframe tbody tr th {\n",
       "        vertical-align: top;\n",
       "    }\n",
       "\n",
       "    .dataframe thead th {\n",
       "        text-align: right;\n",
       "    }\n",
       "</style>\n",
       "<table border=\"1\" class=\"dataframe\">\n",
       "  <thead>\n",
       "    <tr style=\"text-align: right;\">\n",
       "      <th></th>\n",
       "      <th>f0</th>\n",
       "      <th>f1</th>\n",
       "      <th>f2</th>\n",
       "      <th>product</th>\n",
       "    </tr>\n",
       "  </thead>\n",
       "  <tbody>\n",
       "    <tr>\n",
       "      <th>f0</th>\n",
       "      <td>1.000000</td>\n",
       "      <td>0.196080</td>\n",
       "      <td>0.000000</td>\n",
       "      <td>0.628482</td>\n",
       "    </tr>\n",
       "    <tr>\n",
       "      <th>f1</th>\n",
       "      <td>0.196080</td>\n",
       "      <td>1.000000</td>\n",
       "      <td>0.000000</td>\n",
       "      <td>0.185965</td>\n",
       "    </tr>\n",
       "    <tr>\n",
       "      <th>f2</th>\n",
       "      <td>0.000000</td>\n",
       "      <td>0.000000</td>\n",
       "      <td>1.000000</td>\n",
       "      <td>0.978936</td>\n",
       "    </tr>\n",
       "    <tr>\n",
       "      <th>product</th>\n",
       "      <td>0.628482</td>\n",
       "      <td>0.185965</td>\n",
       "      <td>0.978936</td>\n",
       "      <td>1.000000</td>\n",
       "    </tr>\n",
       "  </tbody>\n",
       "</table>\n",
       "</div>"
      ],
      "text/plain": [
       "               f0        f1        f2   product\n",
       "f0       1.000000  0.196080  0.000000  0.628482\n",
       "f1       0.196080  1.000000  0.000000  0.185965\n",
       "f2       0.000000  0.000000  1.000000  0.978936\n",
       "product  0.628482  0.185965  0.978936  1.000000"
      ]
     },
     "execution_count": 38,
     "metadata": {},
     "output_type": "execute_result"
    }
   ],
   "source": [
    "# вычисляем phik корреляции, передав параметру interval_cols количественные непрерывные признаки\n",
    "phik_corr_2 = region_2.phik_matrix(interval_cols=num_features)\n",
    "\n",
    "phik_corr_2"
   ]
  },
  {
   "cell_type": "code",
   "execution_count": 39,
   "id": "894cf75a",
   "metadata": {},
   "outputs": [
    {
     "data": {
      "image/png": "[encoded data removed]",
      "text/plain": [
       "<Figure size 1000x800 with 2 Axes>"
      ]
     },
     "metadata": {},
     "output_type": "display_data"
    }
   ],
   "source": [
    "# визуализируем\n",
    "plot_corr_heatmap(phik_corr_2, 'region_2')"
   ]
  },
  {
   "cell_type": "markdown",
   "id": "396fc204",
   "metadata": {},
   "source": [
    "<div style=\"border: 2px solid black; padding: 10px;\">\n",
    "  <strong>Выводы по корреляции с целевым признаком (product):</strong>\n",
    "  <ul>\n",
    "    <li><strong>f2 (0.98):</strong> Имеет почти идеальную связь с целевым признаком. Это означает, что f2 практически полностью определяет, к какому классу запасов, которые мы видели на гистограмме, относится скважина.</li>\n",
    "    <li><strong>f0 (0.63):</strong> Также демонстрирует заметную связь.</li>  \n",
    "    <li><strong>f1 (0.19):</strong> Имеет очень слабую связь с целевым признаком и, вероятно, не принесет существенной пользы модели.</li>  \n",
    "  </ul>\n",
    "</div>"
   ]
  },
  {
   "cell_type": "markdown",
   "id": "58df3e52",
   "metadata": {},
   "source": [
    "<div style=\"border: 2px solid black; padding: 10px;\">\n",
    "  <strong>Выводы по корреляции признаков между собой:</strong>\n",
    "  <ul>\n",
    "    <li><strong>Низкая связь:</strong> Корреляция между всеми предикторами очень низкая (0.20), а связь f2 с остальными признаками вовсе отсутствует (0.00).</li>\n",
    "    <li>В этом регионе <strong>мультиколлинеарность не является проблемой</strong>. Все три признака несут уникальную, не дублирующую информацию.</li>    \n",
    "  </ul>\n",
    "</div>"
   ]
  },
  {
   "cell_type": "markdown",
   "id": "d9db88f9",
   "metadata": {},
   "source": [
    "#### region_3"
   ]
  },
  {
   "cell_type": "code",
   "execution_count": 40,
   "id": "42d8a190",
   "metadata": {},
   "outputs": [
    {
     "data": {
      "text/html": [
       "<div>\n",
       "<style scoped>\n",
       "    .dataframe tbody tr th:only-of-type {\n",
       "        vertical-align: middle;\n",
       "    }\n",
       "\n",
       "    .dataframe tbody tr th {\n",
       "        vertical-align: top;\n",
       "    }\n",
       "\n",
       "    .dataframe thead th {\n",
       "        text-align: right;\n",
       "    }\n",
       "</style>\n",
       "<table border=\"1\" class=\"dataframe\">\n",
       "  <thead>\n",
       "    <tr style=\"text-align: right;\">\n",
       "      <th></th>\n",
       "      <th>f0</th>\n",
       "      <th>f1</th>\n",
       "      <th>f2</th>\n",
       "      <th>product</th>\n",
       "    </tr>\n",
       "  </thead>\n",
       "  <tbody>\n",
       "    <tr>\n",
       "      <th>f0</th>\n",
       "      <td>1.000000</td>\n",
       "      <td>0.000000</td>\n",
       "      <td>0.000000</td>\n",
       "      <td>0.201068</td>\n",
       "    </tr>\n",
       "    <tr>\n",
       "      <th>f1</th>\n",
       "      <td>0.000000</td>\n",
       "      <td>1.000000</td>\n",
       "      <td>0.000000</td>\n",
       "      <td>0.221022</td>\n",
       "    </tr>\n",
       "    <tr>\n",
       "      <th>f2</th>\n",
       "      <td>0.000000</td>\n",
       "      <td>0.000000</td>\n",
       "      <td>1.000000</td>\n",
       "      <td>0.443287</td>\n",
       "    </tr>\n",
       "    <tr>\n",
       "      <th>product</th>\n",
       "      <td>0.201068</td>\n",
       "      <td>0.221022</td>\n",
       "      <td>0.443287</td>\n",
       "      <td>1.000000</td>\n",
       "    </tr>\n",
       "  </tbody>\n",
       "</table>\n",
       "</div>"
      ],
      "text/plain": [
       "               f0        f1        f2   product\n",
       "f0       1.000000  0.000000  0.000000  0.201068\n",
       "f1       0.000000  1.000000  0.000000  0.221022\n",
       "f2       0.000000  0.000000  1.000000  0.443287\n",
       "product  0.201068  0.221022  0.443287  1.000000"
      ]
     },
     "execution_count": 40,
     "metadata": {},
     "output_type": "execute_result"
    }
   ],
   "source": [
    "# вычисляем phik корреляции, передав параметру interval_cols количественные признаки\n",
    "phik_corr_3 = region_3.phik_matrix(interval_cols=num_features)\n",
    "\n",
    "phik_corr_3"
   ]
  },
  {
   "cell_type": "code",
   "execution_count": 41,
   "id": "330bbd3a",
   "metadata": {},
   "outputs": [
    {
     "data": {
      "image/png": "[encoded data removed]",
      "text/plain": [
       "<Figure size 1000x800 with 2 Axes>"
      ]
     },
     "metadata": {},
     "output_type": "display_data"
    }
   ],
   "source": [
    "# визуализируем\n",
    "plot_corr_heatmap(phik_corr_3, 'region_3')"
   ]
  },
  {
   "cell_type": "markdown",
   "id": "3a0c4976",
   "metadata": {},
   "source": [
    "<div style=\"border: 2px solid black; padding: 10px;\">\n",
    "  <strong>Выводы по корреляции с целевым признаком (product):</strong>\n",
    "  <ul>\n",
    "    <li><strong>f2 (0.44):</strong> Признак снова является самым сильным предиктором для целевого, но в данном случае корреляция все равно умеренная.</li>\n",
    "    <li><strong>f1 (0.22) и f0 (0.20):</strong> Связь f0 и f1 с объемами запасов очень слабая.</li>    \n",
    "  </ul>\n",
    "</div>"
   ]
  },
  {
   "cell_type": "markdown",
   "id": "3371d466",
   "metadata": {},
   "source": [
    "<div style=\"border: 2px solid black; padding: 10px;\">\n",
    "  <strong>Выводы по корреляции признаков между собой:</strong>\n",
    "  <ul>\n",
    "    <li><strong>Независимость признаков:</strong> Все три признака (f0, f1, f2) абсолютно независимы друг от друга (0.00).</li>\n",
    "    <li><strong>Мультиколлинеарность отсутствует:</strong> Все предикторы вносят в модель уникальную информацию, что является идеальным сценарием для обучения.</li> \n",
    "  </ul>\n",
    "</div>"
   ]
  },
  {
   "cell_type": "markdown",
   "id": "691e1501",
   "metadata": {},
   "source": [
    "## Обучение моделей"
   ]
  },
  {
   "cell_type": "markdown",
   "id": "9c473877",
   "metadata": {},
   "source": [
    "Для удобства напишем функцию, которая объединит основные этапы моделирования:\n",
    " - Разбиение данных на обучающую и валидационную выборки в соотношении 75:25;\n",
    " - Обучение модели и получение предсказаний на валидационной выборке;\n",
    " - Сохранение предсказаний и правильных ответов на валидационной выборке;\n",
    " - Вывод на экран среднего запаса предсказанного сырья и RMSE модели."
   ]
  },
  {
   "cell_type": "code",
   "execution_count": 42,
   "id": "b9d4a48c",
   "metadata": {},
   "outputs": [],
   "source": [
    "# напишем функцию для подготовки данных и обучения \n",
    "def train_and_evaluate(df, df_name, feature_cols=['f0','f1','f2'], target_col='product', scale=True):\n",
    "    # делим данные на обучающую и валидационную выборки\n",
    "    X = df[feature_cols]\n",
    "    y = df[target_col]\n",
    "    X_train, X_val, y_train, y_val = train_test_split(\n",
    "        X, y, test_size=0.25, random_state=42)\n",
    "\n",
    "    # масштабирование\n",
    "    scaler = None\n",
    "    if scale:\n",
    "        scaler = StandardScaler()\n",
    "        X_train = scaler.fit_transform(X_train)\n",
    "        X_val = scaler.transform(X_val)\n",
    "\n",
    "    # обучение модели\n",
    "    model = LinearRegression()\n",
    "    model.fit(X_train, y_train)\n",
    "\n",
    "    # предсказания\n",
    "    y_pred_train = model.predict(X_train)\n",
    "    y_pred_val = model.predict(X_val)\n",
    "\n",
    "    # метрики\n",
    "    mean_pred_val = y_pred_val.mean()\n",
    "    rmse_train = np.sqrt(mean_squared_error(y_train, y_pred_train))\n",
    "    rmse_val = np.sqrt(mean_squared_error(y_val, y_pred_val))\n",
    "\n",
    "    print(f'Регион: {df_name}')\n",
    "    print(f'Средний предсказанный запас (val): {mean_pred_val:.2f}')\n",
    "    print(f'RMSE (train):                      {rmse_train:.2f}')\n",
    "    print(f'RMSE (val):                        {rmse_val:.2f}')\n",
    "\n",
    "    # собираем датафрейм с результатами\n",
    "    val_results = pd.DataFrame({\n",
    "        \"y_true\": y_val,\n",
    "        \"y_pred\": y_pred_val\n",
    "    }, index=y_val.index)\n",
    "\n",
    "    return val_results, model, scaler, mean_pred_val"
   ]
  },
  {
   "cell_type": "markdown",
   "id": "77556ce1",
   "metadata": {},
   "source": [
    "Теперь применим функцию к данным по каждому из регионов и проанализируем результаты:"
   ]
  },
  {
   "cell_type": "code",
   "execution_count": 43,
   "id": "38376ebb",
   "metadata": {},
   "outputs": [
    {
     "name": "stdout",
     "output_type": "stream",
     "text": [
      "Регион: region_1\n",
      "Средний предсказанный запас (val): 92.40\n",
      "RMSE (train):                      37.67\n",
      "RMSE (val):                        37.76\n"
     ]
    },
    {
     "name": "stderr",
     "output_type": "stream",
     "text": [
      "/opt/anaconda3/envs/practicum/lib/python3.11/site-packages/sklearn/linear_model/_base.py:280: RuntimeWarning: divide by zero encountered in matmul\n",
      "  return X @ coef_ + self.intercept_\n",
      "/opt/anaconda3/envs/practicum/lib/python3.11/site-packages/sklearn/linear_model/_base.py:280: RuntimeWarning: overflow encountered in matmul\n",
      "  return X @ coef_ + self.intercept_\n",
      "/opt/anaconda3/envs/practicum/lib/python3.11/site-packages/sklearn/linear_model/_base.py:280: RuntimeWarning: invalid value encountered in matmul\n",
      "  return X @ coef_ + self.intercept_\n",
      "/opt/anaconda3/envs/practicum/lib/python3.11/site-packages/sklearn/linear_model/_base.py:280: RuntimeWarning: divide by zero encountered in matmul\n",
      "  return X @ coef_ + self.intercept_\n",
      "/opt/anaconda3/envs/practicum/lib/python3.11/site-packages/sklearn/linear_model/_base.py:280: RuntimeWarning: overflow encountered in matmul\n",
      "  return X @ coef_ + self.intercept_\n",
      "/opt/anaconda3/envs/practicum/lib/python3.11/site-packages/sklearn/linear_model/_base.py:280: RuntimeWarning: invalid value encountered in matmul\n",
      "  return X @ coef_ + self.intercept_\n"
     ]
    }
   ],
   "source": [
    "# результаты для первого региона\n",
    "val_results_1, model_1, scaler_1, mean_pred_1 = train_and_evaluate(region_1, 'region_1')"
   ]
  },
  {
   "cell_type": "code",
   "execution_count": 44,
   "id": "655f02cc",
   "metadata": {},
   "outputs": [
    {
     "name": "stdout",
     "output_type": "stream",
     "text": [
      "Регион: region_2\n",
      "Средний предсказанный запас (val): 68.71\n",
      "RMSE (train):                      0.89\n",
      "RMSE (val):                        0.89\n"
     ]
    },
    {
     "name": "stderr",
     "output_type": "stream",
     "text": [
      "/opt/anaconda3/envs/practicum/lib/python3.11/site-packages/sklearn/linear_model/_base.py:280: RuntimeWarning: divide by zero encountered in matmul\n",
      "  return X @ coef_ + self.intercept_\n",
      "/opt/anaconda3/envs/practicum/lib/python3.11/site-packages/sklearn/linear_model/_base.py:280: RuntimeWarning: overflow encountered in matmul\n",
      "  return X @ coef_ + self.intercept_\n",
      "/opt/anaconda3/envs/practicum/lib/python3.11/site-packages/sklearn/linear_model/_base.py:280: RuntimeWarning: invalid value encountered in matmul\n",
      "  return X @ coef_ + self.intercept_\n",
      "/opt/anaconda3/envs/practicum/lib/python3.11/site-packages/sklearn/linear_model/_base.py:280: RuntimeWarning: divide by zero encountered in matmul\n",
      "  return X @ coef_ + self.intercept_\n",
      "/opt/anaconda3/envs/practicum/lib/python3.11/site-packages/sklearn/linear_model/_base.py:280: RuntimeWarning: overflow encountered in matmul\n",
      "  return X @ coef_ + self.intercept_\n",
      "/opt/anaconda3/envs/practicum/lib/python3.11/site-packages/sklearn/linear_model/_base.py:280: RuntimeWarning: invalid value encountered in matmul\n",
      "  return X @ coef_ + self.intercept_\n"
     ]
    }
   ],
   "source": [
    "# результаты для второго региона\n",
    "val_results_2, model_2, scaler_2, mean_pred_2 = train_and_evaluate(region_2, 'region_2')"
   ]
  },
  {
   "cell_type": "code",
   "execution_count": 45,
   "id": "b79f2be0",
   "metadata": {},
   "outputs": [
    {
     "name": "stdout",
     "output_type": "stream",
     "text": [
      "Регион: region_3\n",
      "Средний предсказанный запас (val): 94.77\n",
      "RMSE (train):                      40.03\n",
      "RMSE (val):                        40.15\n"
     ]
    },
    {
     "name": "stderr",
     "output_type": "stream",
     "text": [
      "/opt/anaconda3/envs/practicum/lib/python3.11/site-packages/sklearn/linear_model/_base.py:280: RuntimeWarning: divide by zero encountered in matmul\n",
      "  return X @ coef_ + self.intercept_\n",
      "/opt/anaconda3/envs/practicum/lib/python3.11/site-packages/sklearn/linear_model/_base.py:280: RuntimeWarning: overflow encountered in matmul\n",
      "  return X @ coef_ + self.intercept_\n",
      "/opt/anaconda3/envs/practicum/lib/python3.11/site-packages/sklearn/linear_model/_base.py:280: RuntimeWarning: invalid value encountered in matmul\n",
      "  return X @ coef_ + self.intercept_\n",
      "/opt/anaconda3/envs/practicum/lib/python3.11/site-packages/sklearn/linear_model/_base.py:280: RuntimeWarning: divide by zero encountered in matmul\n",
      "  return X @ coef_ + self.intercept_\n",
      "/opt/anaconda3/envs/practicum/lib/python3.11/site-packages/sklearn/linear_model/_base.py:280: RuntimeWarning: overflow encountered in matmul\n",
      "  return X @ coef_ + self.intercept_\n",
      "/opt/anaconda3/envs/practicum/lib/python3.11/site-packages/sklearn/linear_model/_base.py:280: RuntimeWarning: invalid value encountered in matmul\n",
      "  return X @ coef_ + self.intercept_\n"
     ]
    }
   ],
   "source": [
    "# результаты для третьего региона\n",
    "val_results_3, model_3, scaler_3, mean_pred_3 = train_and_evaluate(region_3, 'region_3')"
   ]
  },
  {
   "cell_type": "markdown",
   "id": "00d67912",
   "metadata": {},
   "source": [
    "<div style=\"border: 2px solid black; padding: 10px;\">\n",
    "  <strong>Выводы по результатам для каждого региона:</strong>\n",
    "  <ul>\n",
    "    <li><strong>region_1:</strong> Средний предсказанный запас очень близок к описанному среднему (~92.5). Ошибка относительно среднего запаса составляет почти 40%, что типично для синтетических данных с нестандартным распределением. В целом, модель обучается нормально, но есть умеренные расхождения в предсказаниях отдельных скважин.</li>\n",
    "    <li><strong>region_2:</strong> Средний предсказанный запас очень близок к описанному среднему (~68.8). По RMSE видно, что признаки сильно скоррелированы с таргетом, почти идеальная линейная зависимость. В EDA видно, что f2 и product имеют phik-корреляцию 0.978 — почти прямая линейная связь, отсюда почти идеальное предсказание.</li>\n",
    "    <li><strong>region_3:</strong> Средний предсказанный запас очень близок к описанному среднему (~95). Ошибка около 40% от среднего, аналогично region_1. Модель относительно хорошо предсказывает, но разброс отдельных скважин значительный — вероятно, из-за выбросов или слабой линейной зависимости с признаками.</li>  \n",
    "  </ul>\n",
    "</div>"
   ]
  },
  {
   "cell_type": "markdown",
   "id": "79a2eb5e",
   "metadata": {},
   "source": [
    "<div style=\"border: 2px solid black; padding: 10px;\">\n",
    "  <strong>Общие наблюдения:</strong>\n",
    "  <ul>\n",
    "    <li>Модель линейной регрессии предсказывает среднее значение верно для всех регионов.</li>\n",
    "    <li>Точность сильно зависит от корреляции признаков с таргетом: чем сильнее линейная связь, тем меньше RMSE (как в region_2).</li>\n",
    "    <li>Расхождение между train и val невелико, что указывает на отсутствие переобучения.</li>  \n",
    "  </ul>\n",
    "</div>"
   ]
  },
  {
   "cell_type": "markdown",
   "id": "5ab3780c",
   "metadata": {},
   "source": [
    "## Расчет прибыли"
   ]
  },
  {
   "cell_type": "markdown",
   "id": "4bd7c8f0",
   "metadata": {},
   "source": [
    "### Подготовка к расчету прибыли"
   ]
  },
  {
   "cell_type": "markdown",
   "id": "a85d8a14",
   "metadata": {},
   "source": [
    "Подготовимся к расчёту прибыли:\n",
    "- Сохраним все ключевые значения для расчётов в отдельных переменных;\n",
    "- Рассчитаем достаточный объём сырья для безубыточной разработки новой скважины и сравним полученный объём сырья со средним запасом в каждом регионе; \n",
    "- Напишем выводы по этапу подготовки расчёта прибыли."
   ]
  },
  {
   "cell_type": "code",
   "execution_count": 46,
   "id": "4581ee5d",
   "metadata": {},
   "outputs": [],
   "source": [
    "# ключевые значения для расчетов\n",
    "BUDGET = 10_000_000_000    # бюджет на разработку региона (руб.)\n",
    "UNIT_PRICE = 450_000       # руб. за 1 тыс. баррелей\n",
    "WELLS_TO_DEVELOP = 200     # число скважин для разработки"
   ]
  },
  {
   "cell_type": "markdown",
   "id": "3870f00f",
   "metadata": {},
   "source": [
    "Рассчитываем достаточный объём сырья для безубыточной разработки одной скважины:"
   ]
  },
  {
   "cell_type": "code",
   "execution_count": 47,
   "id": "3f2f622e",
   "metadata": {},
   "outputs": [
    {
     "name": "stdout",
     "output_type": "stream",
     "text": [
      "Достаточный объём сырья для безубыточной разработки одной скважины: 111.11 тыс. баррелей\n"
     ]
    }
   ],
   "source": [
    "budget_per_well = BUDGET / WELLS_TO_DEVELOP # доля бюджета на скважину\n",
    "min_volume = budget_per_well / UNIT_PRICE   # расчет достаточного объема\n",
    "\n",
    "print(f'Достаточный объём сырья для безубыточной разработки одной скважины: {min_volume:.2f} тыс. баррелей')"
   ]
  },
  {
   "cell_type": "markdown",
   "id": "f978cec8",
   "metadata": {},
   "source": [
    "Сравним полученный объём сырья со средним запасом в каждом регионе:"
   ]
  },
  {
   "cell_type": "code",
   "execution_count": 48,
   "id": "43fedb98",
   "metadata": {},
   "outputs": [
    {
     "data": {
      "text/html": [
       "<div>\n",
       "<style scoped>\n",
       "    .dataframe tbody tr th:only-of-type {\n",
       "        vertical-align: middle;\n",
       "    }\n",
       "\n",
       "    .dataframe tbody tr th {\n",
       "        vertical-align: top;\n",
       "    }\n",
       "\n",
       "    .dataframe thead th {\n",
       "        text-align: right;\n",
       "    }\n",
       "</style>\n",
       "<table border=\"1\" class=\"dataframe\">\n",
       "  <thead>\n",
       "    <tr style=\"text-align: right;\">\n",
       "      <th></th>\n",
       "      <th>Средний предсказанный запас</th>\n",
       "      <th>Безубыточный объём</th>\n",
       "      <th>Примечание</th>\n",
       "    </tr>\n",
       "  </thead>\n",
       "  <tbody>\n",
       "    <tr>\n",
       "      <th>region_1</th>\n",
       "      <td>92.398800</td>\n",
       "      <td>111.11</td>\n",
       "      <td>Ниже безубыточного - риск убытка</td>\n",
       "    </tr>\n",
       "    <tr>\n",
       "      <th>region_2</th>\n",
       "      <td>68.712878</td>\n",
       "      <td>111.11</td>\n",
       "      <td>Ниже безубыточного - риск убытка</td>\n",
       "    </tr>\n",
       "    <tr>\n",
       "      <th>region_3</th>\n",
       "      <td>94.771024</td>\n",
       "      <td>111.11</td>\n",
       "      <td>Ниже безубыточного - риск убытка</td>\n",
       "    </tr>\n",
       "  </tbody>\n",
       "</table>\n",
       "</div>"
      ],
      "text/plain": [
       "          Средний предсказанный запас  Безубыточный объём  \\\n",
       "region_1                    92.398800              111.11   \n",
       "region_2                    68.712878              111.11   \n",
       "region_3                    94.771024              111.11   \n",
       "\n",
       "                                Примечание  \n",
       "region_1  Ниже безубыточного - риск убытка  \n",
       "region_2  Ниже безубыточного - риск убытка  \n",
       "region_3  Ниже безубыточного - риск убытка  "
      ]
     },
     "execution_count": 48,
     "metadata": {},
     "output_type": "execute_result"
    }
   ],
   "source": [
    "# формируем датафрейм\n",
    "df_profit_check = pd.DataFrame({\n",
    "    \"Средний предсказанный запас\": {\"region_1\": mean_pred_1, \"region_2\": mean_pred_2, \"region_3\": mean_pred_3},\n",
    "    \"Безубыточный объём\": 111.11})\n",
    "\n",
    "# добавим столбец с пометкой о риске\n",
    "df_profit_check[\"Примечание\"] = df_profit_check[\"Средний предсказанный запас\"].apply(\n",
    "    lambda x: \"Ниже безубыточного - риск убытка\" if x < min_volume else \"Выше безубыточного - потенциально прибыльно\")\n",
    "\n",
    "df_profit_check"
   ]
  },
  {
   "cell_type": "markdown",
   "id": "464a0cb3",
   "metadata": {},
   "source": [
    "<div style=\"border: 2px solid black; padding: 10px;\">\n",
    "  <strong>Выводы по этапу подготовки к расчету прибыли:</strong>\n",
    "  <ul>\n",
    "    <li>Безубыточный объём сырья на одну скважину (111.11 тыс. баррелей) превышает средние запасы всех трёх регионов.</li>\n",
    "    <li>На основании средних значений ни один регион гарантированно не безубыточен, что означает, что при оценке рисков важна выборка 200 лучших скважин.</li>\n",
    "    <li>Необходимо использовать предсказания модели, чтобы выбрать топ-200 скважин по каждому региону и оценить потенциальную прибыль и вероятность убытка.</li>  \n",
    "  </ul>\n",
    "</div>"
   ]
  },
  {
   "cell_type": "markdown",
   "id": "d58a3441",
   "metadata": {},
   "source": [
    "### Функция для расчета прибыли"
   ]
  },
  {
   "cell_type": "markdown",
   "id": "c840ac73",
   "metadata": {},
   "source": [
    "Напишем функцию для расчёта прибыли по выбранным скважинам и предсказаниям модели. Функция будет включать:\n",
    "- Выбор скважины с максимальными значениями предсказаний; \n",
    "- Суммирование целевого значения объёма сырья, которое соответствует этим предсказаниям;\n",
    "- Расчет прибыли для полученного объёма сырья."
   ]
  },
  {
   "cell_type": "code",
   "execution_count": 49,
   "id": "2b6d6886",
   "metadata": {},
   "outputs": [],
   "source": [
    "# функция для расчёта прибыли по выбранным скважинам\n",
    "def calculate_profit(val_results, top_n=WELLS_TO_DEVELOP, unit_price=UNIT_PRICE, budget=BUDGET):\n",
    "\n",
    "    # выбираем скважины с максимальными предсказаниями\n",
    "    top_wells = val_results.sort_values(by='y_pred', ascending=False).head(top_n)\n",
    "    \n",
    "    # суммарный объём реального сырья\n",
    "    total_volume = top_wells['y_true'].sum()\n",
    "    \n",
    "    # расчёт прибыли\n",
    "    revenue = total_volume * unit_price\n",
    "    profit = revenue - budget\n",
    "    \n",
    "    return total_volume, profit, top_wells"
   ]
  },
  {
   "cell_type": "markdown",
   "id": "92163bbe",
   "metadata": {},
   "source": [
    "### Подсчет рисков и прибыли"
   ]
  },
  {
   "cell_type": "markdown",
   "id": "b33be1ac",
   "metadata": {},
   "source": [
    "Теперь посчитаем риски и прибыль для каждого региона. Для этого:\n",
    "- Применим технику Bootstrap с 1000 выборок, чтобы найти распределение прибыли;\n",
    "- Найдем среднюю прибыль, 95%-й доверительный интервал и риск убытков;\n",
    "- Проанализируем результаты и предложим регион для разработки скважин."
   ]
  },
  {
   "cell_type": "code",
   "execution_count": 50,
   "id": "a5bdee9d",
   "metadata": {},
   "outputs": [],
   "source": [
    "# bootstrap-функция для подсчета прибыли, ДИ и риска убытков\n",
    "state = np.random.RandomState(12345)\n",
    "\n",
    "def bootstrap_analysis(val_results):\n",
    "    profits = []\n",
    "    risks = []\n",
    "    \n",
    "    for _ in range(1000):\n",
    "        # берём случайную выборку из 500 скважин с возвращением\n",
    "        sample = val_results.sample(n=500, replace=True, random_state=state)\n",
    "        \n",
    "        # рассчитываем прибыль по топ-200 скважин\n",
    "        _, profit, _ = calculate_profit(sample, top_n=WELLS_TO_DEVELOP, unit_price=UNIT_PRICE, budget=BUDGET)\n",
    "        profits.append(profit)\n",
    "        \n",
    "        # риск: 1 если убыток, 0 если прибыль\n",
    "        risks.append(1 if profit < 0 else 0)\n",
    "    \n",
    "    profits = pd.Series(profits)\n",
    "    mean_profit = round(profits.mean(), 2)\n",
    "    ci_lower = round(profits.quantile(0.025), 2)\n",
    "    ci_upper = round(profits.quantile(0.975), 2)\n",
    "    risk = round(pd.Series(risks).mean() * 100, 2)\n",
    "    \n",
    "    return mean_profit, ci_lower, ci_upper, risk"
   ]
  },
  {
   "cell_type": "code",
   "execution_count": 51,
   "id": "88206375",
   "metadata": {},
   "outputs": [
    {
     "name": "stdout",
     "output_type": "stream",
     "text": [
      "Регион: region_1\n",
      "Средняя прибыль: 406,278,783 руб.\n",
      "95% доверительный интервал: -117,742,136 — 911,737,051 руб.\n",
      "Риск убытков: 6.70%\n",
      "--------------------------------------------------------------\n",
      "Регион: region_2\n",
      "Средняя прибыль: 441,504,278 руб.\n",
      "95% доверительный интервал: 35,728,489 — 828,006,639 руб.\n",
      "Риск убытков: 1.60%\n",
      "--------------------------------------------------------------\n",
      "Регион: region_3\n",
      "Средняя прибыль: 385,213,196 руб.\n",
      "95% доверительный интервал: -164,785,166 — 888,206,234 руб.\n",
      "Риск убытков: 7.80%\n",
      "--------------------------------------------------------------\n"
     ]
    }
   ],
   "source": [
    "# выводим результаты для каждого региона\n",
    "regions = {\n",
    "    \"region_1\": val_results_1,\n",
    "    \"region_2\": val_results_2,\n",
    "    \"region_3\": val_results_3\n",
    "}\n",
    "\n",
    "for region_name, val_results in regions.items():\n",
    "    mean_profit, ci_lower, ci_upper, risk = bootstrap_analysis(val_results)\n",
    "    print(f\"Регион: {region_name}\")\n",
    "    print(f\"Средняя прибыль: {mean_profit:,.0f} руб.\")\n",
    "    print(f\"95% доверительный интервал: {ci_lower:,.0f} — {ci_upper:,.0f} руб.\")\n",
    "    print(f\"Риск убытков: {risk:.2f}%\")\n",
    "    print(\"-\"*62)"
   ]
  },
  {
   "cell_type": "markdown",
   "id": "6735a1f0",
   "metadata": {},
   "source": [
    "<div style=\"border: 2px solid black; padding: 10px;\">\n",
    "  <strong>Выводы по результатам расчета прибыли и рисков:</strong>\n",
    "  <ul>\n",
    "    <li><strong>region_2</strong> имеет самую высокую среднюю прибыль и низкий риск убытков (1.6%), что делает его наиболее привлекательным для разработки. Также 95%-й доверительный интервал для region_2 полностью положительный, что говорит о стабильности прогноза.</li>\n",
    "    <li><strong>region_1 и region_3</strong> демонстрируют большую вариативность прибыли и значительно выше риск убытков (6.7% и 7.8%). Доверительные интервалы для этих регионов включают отрицательные значения, что говорит о том, что даже при выборе 200 лучших скважин могут быть случаи убыточной разработки.</li> \n",
    "  </ul>\n",
    "</div>"
   ]
  },
  {
   "cell_type": "markdown",
   "id": "7ddbd7a0",
   "metadata": {},
   "source": [
    "## Итоговые выводы "
   ]
  },
  {
   "cell_type": "markdown",
   "id": "53d85efc",
   "metadata": {
    "id": "H6cQIZr3ElW1"
   },
   "source": [
    "### Предобработка данных"
   ]
  },
  {
   "cell_type": "markdown",
   "id": "148ac6c9",
   "metadata": {},
   "source": [
    "- Явные и неявные дубли отсутствовали;\n",
    "- Пропуски в данных отсутствовали;\n",
    "- Изменение типов данных не требовалось;\n",
    "- Неинформативный признак id превращен в индекс.\n",
    "\n",
    "Этот этап позволил проверить и подготовить данные для дальнейшего анализа. "
   ]
  },
  {
   "cell_type": "markdown",
   "id": "5c537926",
   "metadata": {
    "id": "H6cQIZr3ElW1"
   },
   "source": [
    "### Исследовательский анализ данных"
   ]
  },
  {
   "cell_type": "markdown",
   "id": "9175d1dd",
   "metadata": {},
   "source": [
    "- Были проанализированы распределения признаков, также данные проверены на наличие выбросов;\n",
    "- Был проведен корреляционный анализ данных;\n",
    "- Исследована взаимосвязь признаков с целевыми;\n",
    "- Выявлены наиболее полезные для моделей признаки;\n",
    "- Входные признаки проверены на наличие мультиколлинеарности и дублирования."
   ]
  },
  {
   "cell_type": "markdown",
   "id": "9f842381",
   "metadata": {},
   "source": [
    "### Моделирование"
   ]
  },
  {
   "cell_type": "markdown",
   "id": "f7849ce0",
   "metadata": {},
   "source": [
    "Была написана функция, объединяющая основные этапы моделирования:\n",
    "  - Разделение данных на обучающую и валидационную выборки; \n",
    "  - Обучение модели линейной регрессии;\n",
    "  - Предсказание запасов на валидационной выборке;\n",
    "  - Оценка качества моделей по метрикам (RMSE, среднее предсказанное значение).\n",
    "\n",
    "После чего функция была применена к данным по каждому из регионов, а полученные результаты подробно проанализированы.  "
   ]
  },
  {
   "cell_type": "markdown",
   "id": "a3ba0097",
   "metadata": {},
   "source": [
    "### Расчет прибыли"
   ]
  },
  {
   "cell_type": "markdown",
   "id": "72539943",
   "metadata": {},
   "source": [
    "Определили параметры задачи:\n",
    "  - количество скважин для разработки (200),\n",
    "  - общее количество возможных скважин (500),\n",
    "  - стоимость разработки,\n",
    "  - доход с 1 тыс. баррелей. \n",
    "  \n",
    "После чего реализовали функцию для расчёта прибыли по выбранным скважинам и применили бутстрап (1000 выборок) к данным по каждому региону:\n",
    "  - вычислили распределение прибыли,\n",
    "  - нашли среднюю прибыль, доверительный интервал (95%), риск убытков.\n",
    "  \n",
    "Сравнили результаты по регионам и выбрали оптимальный с минимальным риском убытков - region_2."
   ]
  },
  {
   "cell_type": "markdown",
   "id": "68564594",
   "metadata": {},
   "source": [
    "## Рекомендации заказчику"
   ]
  },
  {
   "cell_type": "markdown",
   "id": "00a0a592",
   "metadata": {},
   "source": [
    "На основе проведённого анализа можно дать заказчику следующие рекомендации:\n",
    "\n",
    "1. **Выбор региона для разработки**\n",
    "\n",
    "- Оптимальным выбором является второй регион (region_2): он демонстрирует наибольшую среднюю прибыль (около 441 млн руб.) и минимальный риск убытков (1.6%).\n",
    "- Первый и третий регионы (region_1 и region_3) менее предпочтительны: хотя их потенциальная прибыль сопоставима, риск убытков выше (6.7% и 7.8% соответственно), а доверительный интервал шире (включая отрицательные значения).\n",
    "\n",
    "2. **Ожидаемая эффективность**\n",
    "\n",
    "- При разработке 200 скважин во втором регионе можно ожидать прибыль в диапазоне 35 млн – 828 млн руб. с вероятностью 95%.\n",
    "- Это делает проект экономически целесообразным при текущих условиях.\n",
    "\n",
    "3. **Риски и неопределённость**\n",
    "\n",
    "- Даже в оптимальном регионе сохраняется небольшой риск (1.6%) получить убыток.\n",
    "- Рекомендуется закладывать этот фактор в финансовое планирование (резервирование средств или страхование).\n",
    "\n",
    "4. **Дальнейшие шаги**\n",
    "\n",
    "- Запустить разработку именно во втором регионе.\n",
    "- Провести дополнительный анализ чувствительности к изменению цен на нефть и затрат на разработку.\n",
    "- В будущем рассмотреть комбинированный портфель (например, часть скважин из одного региона и небольшая доля из другого), если появится задача диверсификации."
   ]
  },
  {
   "cell_type": "code",
   "execution_count": null,
   "id": "1f77f180",
   "metadata": {},
   "outputs": [],
   "source": []
  }
 ],
 "metadata": {
  "ExecuteTimeLog": [
   {
    "duration": 75,
    "start_time": "2025-09-29T01:44:35.182Z"
   },
   {
    "duration": 7515,
    "start_time": "2025-09-29T01:44:39.258Z"
   },
   {
    "duration": 6944,
    "start_time": "2025-09-29T01:44:46.776Z"
   },
   {
    "duration": 1379,
    "start_time": "2025-09-29T01:44:53.722Z"
   },
   {
    "duration": 203,
    "start_time": "2025-09-29T01:44:55.103Z"
   },
   {
    "duration": 157,
    "start_time": "2025-09-29T01:44:55.308Z"
   },
   {
    "duration": 0,
    "start_time": "2025-09-29T01:44:55.468Z"
   },
   {
    "duration": 0,
    "start_time": "2025-09-29T01:44:55.470Z"
   },
   {
    "duration": 0,
    "start_time": "2025-09-29T01:44:55.471Z"
   },
   {
    "duration": 0,
    "start_time": "2025-09-29T01:44:55.472Z"
   },
   {
    "duration": 0,
    "start_time": "2025-09-29T01:44:55.473Z"
   },
   {
    "duration": 0,
    "start_time": "2025-09-29T01:44:55.474Z"
   },
   {
    "duration": 0,
    "start_time": "2025-09-29T01:44:55.476Z"
   },
   {
    "duration": 0,
    "start_time": "2025-09-29T01:44:55.477Z"
   },
   {
    "duration": 0,
    "start_time": "2025-09-29T01:44:55.478Z"
   },
   {
    "duration": 0,
    "start_time": "2025-09-29T01:44:55.479Z"
   },
   {
    "duration": 0,
    "start_time": "2025-09-29T01:44:55.480Z"
   },
   {
    "duration": 0,
    "start_time": "2025-09-29T01:44:55.481Z"
   },
   {
    "duration": 0,
    "start_time": "2025-09-29T01:44:55.482Z"
   },
   {
    "duration": 0,
    "start_time": "2025-09-29T01:44:55.483Z"
   },
   {
    "duration": 0,
    "start_time": "2025-09-29T01:44:55.484Z"
   },
   {
    "duration": 0,
    "start_time": "2025-09-29T01:44:55.514Z"
   },
   {
    "duration": 0,
    "start_time": "2025-09-29T01:44:55.515Z"
   },
   {
    "duration": 0,
    "start_time": "2025-09-29T01:44:55.516Z"
   },
   {
    "duration": 0,
    "start_time": "2025-09-29T01:44:55.517Z"
   },
   {
    "duration": 0,
    "start_time": "2025-09-29T01:44:55.518Z"
   },
   {
    "duration": 0,
    "start_time": "2025-09-29T01:44:55.520Z"
   },
   {
    "duration": 1,
    "start_time": "2025-09-29T01:44:55.520Z"
   },
   {
    "duration": 0,
    "start_time": "2025-09-29T01:44:55.522Z"
   },
   {
    "duration": 0,
    "start_time": "2025-09-29T01:44:55.523Z"
   },
   {
    "duration": 0,
    "start_time": "2025-09-29T01:44:55.524Z"
   },
   {
    "duration": 0,
    "start_time": "2025-09-29T01:44:55.525Z"
   },
   {
    "duration": 0,
    "start_time": "2025-09-29T01:44:55.526Z"
   },
   {
    "duration": 0,
    "start_time": "2025-09-29T01:44:55.527Z"
   },
   {
    "duration": 0,
    "start_time": "2025-09-29T01:44:55.528Z"
   },
   {
    "duration": 0,
    "start_time": "2025-09-29T01:44:55.529Z"
   },
   {
    "duration": 0,
    "start_time": "2025-09-29T01:44:55.530Z"
   },
   {
    "duration": 0,
    "start_time": "2025-09-29T01:44:55.531Z"
   },
   {
    "duration": 0,
    "start_time": "2025-09-29T01:44:55.532Z"
   },
   {
    "duration": 0,
    "start_time": "2025-09-29T01:44:55.534Z"
   },
   {
    "duration": 0,
    "start_time": "2025-09-29T01:44:55.535Z"
   },
   {
    "duration": 0,
    "start_time": "2025-09-29T01:44:55.536Z"
   },
   {
    "duration": 0,
    "start_time": "2025-09-29T01:44:55.537Z"
   },
   {
    "duration": 0,
    "start_time": "2025-09-29T01:44:55.538Z"
   },
   {
    "duration": 0,
    "start_time": "2025-09-29T01:44:55.539Z"
   },
   {
    "duration": 0,
    "start_time": "2025-09-29T01:44:55.541Z"
   },
   {
    "duration": 0,
    "start_time": "2025-09-29T01:44:55.542Z"
   },
   {
    "duration": 0,
    "start_time": "2025-09-29T01:44:55.543Z"
   },
   {
    "duration": 0,
    "start_time": "2025-09-29T01:44:55.545Z"
   },
   {
    "duration": 0,
    "start_time": "2025-09-29T01:44:55.546Z"
   },
   {
    "duration": 0,
    "start_time": "2025-09-29T01:44:55.547Z"
   },
   {
    "duration": 0,
    "start_time": "2025-09-29T01:44:55.548Z"
   },
   {
    "duration": 0,
    "start_time": "2025-09-29T01:44:55.549Z"
   },
   {
    "duration": 0,
    "start_time": "2025-09-29T01:44:55.551Z"
   },
   {
    "duration": 446,
    "start_time": "2025-09-29T01:57:23.383Z"
   },
   {
    "duration": 5528,
    "start_time": "2025-09-29T01:57:29.114Z"
   },
   {
    "duration": 3430,
    "start_time": "2025-09-29T01:57:34.645Z"
   },
   {
    "duration": 1246,
    "start_time": "2025-09-29T01:57:38.077Z"
   },
   {
    "duration": 159,
    "start_time": "2025-09-29T01:57:39.325Z"
   },
   {
    "duration": 438,
    "start_time": "2025-09-29T01:57:39.486Z"
   },
   {
    "duration": 16,
    "start_time": "2025-09-29T01:57:39.925Z"
   },
   {
    "duration": 31,
    "start_time": "2025-09-29T01:57:39.942Z"
   },
   {
    "duration": 29,
    "start_time": "2025-09-29T01:57:39.975Z"
   },
   {
    "duration": 73,
    "start_time": "2025-09-29T01:57:40.006Z"
   },
   {
    "duration": 44,
    "start_time": "2025-09-29T01:57:40.080Z"
   },
   {
    "duration": 32,
    "start_time": "2025-09-29T01:57:40.127Z"
   },
   {
    "duration": 19,
    "start_time": "2025-09-29T01:57:40.162Z"
   },
   {
    "duration": 76,
    "start_time": "2025-09-29T01:57:40.183Z"
   },
   {
    "duration": 10,
    "start_time": "2025-09-29T01:57:40.263Z"
   },
   {
    "duration": 35,
    "start_time": "2025-09-29T01:57:40.275Z"
   },
   {
    "duration": 3,
    "start_time": "2025-09-29T01:57:40.312Z"
   },
   {
    "duration": 47,
    "start_time": "2025-09-29T01:57:40.316Z"
   },
   {
    "duration": 216,
    "start_time": "2025-09-29T01:57:40.364Z"
   },
   {
    "duration": 19,
    "start_time": "2025-09-29T01:57:40.582Z"
   },
   {
    "duration": 99,
    "start_time": "2025-09-29T01:57:40.615Z"
   },
   {
    "duration": 6,
    "start_time": "2025-09-29T01:57:40.716Z"
   },
   {
    "duration": 6,
    "start_time": "2025-09-29T01:57:40.724Z"
   },
   {
    "duration": 7,
    "start_time": "2025-09-29T01:57:40.732Z"
   },
   {
    "duration": 5,
    "start_time": "2025-09-29T01:57:40.741Z"
   },
   {
    "duration": 16,
    "start_time": "2025-09-29T01:57:40.748Z"
   },
   {
    "duration": 6,
    "start_time": "2025-09-29T01:57:40.766Z"
   },
   {
    "duration": 41,
    "start_time": "2025-09-29T01:57:40.774Z"
   },
   {
    "duration": 7,
    "start_time": "2025-09-29T01:57:40.817Z"
   },
   {
    "duration": 9,
    "start_time": "2025-09-29T01:57:40.826Z"
   },
   {
    "duration": 44,
    "start_time": "2025-09-29T01:57:40.836Z"
   },
   {
    "duration": 52,
    "start_time": "2025-09-29T01:57:40.882Z"
   },
   {
    "duration": 42,
    "start_time": "2025-09-29T01:57:40.936Z"
   },
   {
    "duration": 3,
    "start_time": "2025-09-29T01:57:40.980Z"
   },
   {
    "duration": 3963,
    "start_time": "2025-09-29T01:57:40.984Z"
   },
   {
    "duration": 3724,
    "start_time": "2025-09-29T01:57:44.949Z"
   },
   {
    "duration": 4203,
    "start_time": "2025-09-29T01:57:48.675Z"
   },
   {
    "duration": 324,
    "start_time": "2025-09-29T01:57:52.880Z"
   },
   {
    "duration": 340,
    "start_time": "2025-09-29T01:57:53.206Z"
   },
   {
    "duration": 332,
    "start_time": "2025-09-29T01:57:53.548Z"
   },
   {
    "duration": 350,
    "start_time": "2025-09-29T01:57:53.882Z"
   },
   {
    "duration": 314,
    "start_time": "2025-09-29T01:57:54.236Z"
   },
   {
    "duration": 325,
    "start_time": "2025-09-29T01:57:54.552Z"
   },
   {
    "duration": 6,
    "start_time": "2025-09-29T01:57:54.879Z"
   },
   {
    "duration": 233,
    "start_time": "2025-09-29T01:57:54.887Z"
   },
   {
    "duration": 293,
    "start_time": "2025-09-29T01:57:55.122Z"
   },
   {
    "duration": 207,
    "start_time": "2025-09-29T01:57:55.417Z"
   },
   {
    "duration": 2,
    "start_time": "2025-09-29T01:57:55.626Z"
   },
   {
    "duration": 8,
    "start_time": "2025-09-29T01:57:55.630Z"
   },
   {
    "duration": 13,
    "start_time": "2025-09-29T01:57:55.640Z"
   },
   {
    "duration": 6,
    "start_time": "2025-09-29T01:57:55.655Z"
   },
   {
    "duration": 6,
    "start_time": "2025-09-29T01:57:55.663Z"
   },
   {
    "duration": 2773,
    "start_time": "2025-09-29T01:57:55.670Z"
   },
   {
    "duration": 13,
    "start_time": "2025-09-29T01:57:58.445Z"
   }
  ],
  "kernelspec": {
   "display_name": "Python 3 (ipykernel)",
   "language": "python",
   "name": "python3"
  },
  "language_info": {
   "codemirror_mode": {
    "name": "ipython",
    "version": 3
   },
   "file_extension": ".py",
   "mimetype": "text/x-python",
   "name": "python",
   "nbconvert_exporter": "python",
   "pygments_lexer": "ipython3",
   "version": "3.11.12"
  },
  "toc": {
   "base_numbering": 1,
   "nav_menu": {},
   "number_sections": true,
   "sideBar": true,
   "skip_h1_title": true,
   "title_cell": "Table of Contents",
   "title_sidebar": "Contents",
   "toc_cell": false,
   "toc_position": {},
   "toc_section_display": true,
   "toc_window_display": false
  }
 },
 "nbformat": 4,
 "nbformat_minor": 5
}
